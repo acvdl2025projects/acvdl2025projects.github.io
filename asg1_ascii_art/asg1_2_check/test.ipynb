{
 "cells": [
  {
   "cell_type": "code",
   "execution_count": 9,
   "metadata": {},
   "outputs": [],
   "source": [
    "from asg1_2 import ascii_by_pca"
   ]
  },
  {
   "cell_type": "code",
   "execution_count": 10,
   "metadata": {},
   "outputs": [],
   "source": [
    "obj1 = ascii_by_pca()"
   ]
  },
  {
   "cell_type": "code",
   "execution_count": 11,
   "metadata": {},
   "outputs": [],
   "source": [
    "path = \"./monkeyking.jpg\"\n",
    "tahoma = \"path/to/tahoma.ttf\"\n",
    "courier = \"path/to/cour.ttf\"\n",
    "times_new_roman = \"path/to/times.ttf\"\n",
    "arial = \"path/to/arial.ttf\""
   ]
  },
  {
   "cell_type": "code",
   "execution_count": 5,
   "metadata": {},
   "outputs": [
    {
     "name": "stdout",
     "output_type": "stream",
     "text": [
      "Real Shape of Img: (1041, 736)\n",
      "Scaled Ratio of the IMG: 9\n",
      "Dimension of New IMG: 115 x 81\n",
      "Patch size Dimension: 9 X 9\n",
      " !\"#$%&'()*+,-./0123456789:;<=>?@ABCDEFGHIJKLMNOPQRSTUVWXYZ[\\]^_`abcdefghijklmnopqrstuvwxyz{|}¡¢£¤¥¦§¨©ª«¬­®¯°±²³´µ¶·¸¹º»¼½¾¿ÀÁÂÃÄÅÆÇÈÉÊËÌÍÎÏÐÑÒÓÔÕÖ×ØÙÚÛÜÝÞßàáâãäåæçèéêëìíîïðñòóôõö÷øùúûüýþÿĀāĂăĄąĆćĈĉĊċČčĎďĐđĒēĔĕĖėĘęĚěĜĝĞğĠġĢģĤĥĦħĨĩĪīĬĭĮįİıĲĳĴĵĶķĸĹĺĻļĽľĿŀŁł\n"
     ]
    },
    {
     "name": "stderr",
     "output_type": "stream",
     "text": [
      "c:\\Users\\acer\\Desktop\\HW\\CV\\asg1_ascii_art\\.venv\\Lib\\site-packages\\sklearn\\decomposition\\_pca.py:648: RuntimeWarning: invalid value encountered in divide\n",
      "  explained_variance_ratio_ = explained_variance_ / total_var\n",
      "c:\\Users\\acer\\Desktop\\HW\\CV\\asg1_ascii_art\\.venv\\Lib\\site-packages\\sklearn\\decomposition\\_pca.py:648: RuntimeWarning: invalid value encountered in divide\n",
      "  explained_variance_ratio_ = explained_variance_ / total_var\n",
      "c:\\Users\\acer\\Desktop\\HW\\CV\\asg1_ascii_art\\.venv\\Lib\\site-packages\\sklearn\\decomposition\\_pca.py:648: RuntimeWarning: invalid value encountered in divide\n",
      "  explained_variance_ratio_ = explained_variance_ / total_var\n",
      "c:\\Users\\acer\\Desktop\\HW\\CV\\asg1_ascii_art\\.venv\\Lib\\site-packages\\sklearn\\decomposition\\_pca.py:648: RuntimeWarning: invalid value encountered in divide\n",
      "  explained_variance_ratio_ = explained_variance_ / total_var\n",
      "c:\\Users\\acer\\Desktop\\HW\\CV\\asg1_ascii_art\\.venv\\Lib\\site-packages\\sklearn\\decomposition\\_pca.py:648: RuntimeWarning: invalid value encountered in divide\n",
      "  explained_variance_ratio_ = explained_variance_ / total_var\n"
     ]
    },
    {
     "name": "stdout",
     "output_type": "stream",
     "text": [
      "PCA_n: 3, font_path: path/to/arial.ttf, style: arial.ttf, output_name: ./monkeyking\n",
      "name= ./monkeyking_pca_3_arial.ttf.txt\n"
     ]
    },
    {
     "name": "stderr",
     "output_type": "stream",
     "text": [
      "c:\\Users\\acer\\Desktop\\HW\\CV\\asg1_ascii_art\\.venv\\Lib\\site-packages\\sklearn\\decomposition\\_pca.py:648: RuntimeWarning: invalid value encountered in divide\n",
      "  explained_variance_ratio_ = explained_variance_ / total_var\n",
      "c:\\Users\\acer\\Desktop\\HW\\CV\\asg1_ascii_art\\.venv\\Lib\\site-packages\\sklearn\\decomposition\\_pca.py:648: RuntimeWarning: invalid value encountered in divide\n",
      "  explained_variance_ratio_ = explained_variance_ / total_var\n",
      "c:\\Users\\acer\\Desktop\\HW\\CV\\asg1_ascii_art\\.venv\\Lib\\site-packages\\sklearn\\decomposition\\_pca.py:648: RuntimeWarning: invalid value encountered in divide\n",
      "  explained_variance_ratio_ = explained_variance_ / total_var\n",
      "c:\\Users\\acer\\Desktop\\HW\\CV\\asg1_ascii_art\\.venv\\Lib\\site-packages\\sklearn\\decomposition\\_pca.py:648: RuntimeWarning: invalid value encountered in divide\n",
      "  explained_variance_ratio_ = explained_variance_ / total_var\n",
      "c:\\Users\\acer\\Desktop\\HW\\CV\\asg1_ascii_art\\.venv\\Lib\\site-packages\\sklearn\\decomposition\\_pca.py:648: RuntimeWarning: invalid value encountered in divide\n",
      "  explained_variance_ratio_ = explained_variance_ / total_var\n",
      "c:\\Users\\acer\\Desktop\\HW\\CV\\asg1_ascii_art\\.venv\\Lib\\site-packages\\sklearn\\decomposition\\_pca.py:648: RuntimeWarning: invalid value encountered in divide\n",
      "  explained_variance_ratio_ = explained_variance_ / total_var\n",
      "c:\\Users\\acer\\Desktop\\HW\\CV\\asg1_ascii_art\\.venv\\Lib\\site-packages\\sklearn\\decomposition\\_pca.py:648: RuntimeWarning: invalid value encountered in divide\n",
      "  explained_variance_ratio_ = explained_variance_ / total_var\n",
      "c:\\Users\\acer\\Desktop\\HW\\CV\\asg1_ascii_art\\.venv\\Lib\\site-packages\\sklearn\\decomposition\\_pca.py:648: RuntimeWarning: invalid value encountered in divide\n",
      "  explained_variance_ratio_ = explained_variance_ / total_var\n",
      "c:\\Users\\acer\\Desktop\\HW\\CV\\asg1_ascii_art\\.venv\\Lib\\site-packages\\sklearn\\decomposition\\_pca.py:648: RuntimeWarning: invalid value encountered in divide\n",
      "  explained_variance_ratio_ = explained_variance_ / total_var\n",
      "c:\\Users\\acer\\Desktop\\HW\\CV\\asg1_ascii_art\\.venv\\Lib\\site-packages\\sklearn\\decomposition\\_pca.py:648: RuntimeWarning: invalid value encountered in divide\n",
      "  explained_variance_ratio_ = explained_variance_ / total_var\n",
      "c:\\Users\\acer\\Desktop\\HW\\CV\\asg1_ascii_art\\.venv\\Lib\\site-packages\\sklearn\\decomposition\\_pca.py:648: RuntimeWarning: invalid value encountered in divide\n",
      "  explained_variance_ratio_ = explained_variance_ / total_var\n",
      "c:\\Users\\acer\\Desktop\\HW\\CV\\asg1_ascii_art\\.venv\\Lib\\site-packages\\sklearn\\decomposition\\_pca.py:648: RuntimeWarning: invalid value encountered in divide\n",
      "  explained_variance_ratio_ = explained_variance_ / total_var\n"
     ]
    },
    {
     "name": "stdout",
     "output_type": "stream",
     "text": [
      "./monkeyking_pca_3_arial.ttf.txt created successfully!!\n",
      "Image saved at ./monkeyking_pca_3_arial.ttf_text_arial.ttf.png\n",
      "Real Shape of Img: (1041, 736)\n",
      "Scaled Ratio of the IMG: 9\n",
      "Dimension of New IMG: 115 x 81\n",
      "Patch size Dimension: 9 X 9\n",
      " !\"#$%&'()*+,-./0123456789:;<=>?@ABCDEFGHIJKLMNOPQRSTUVWXYZ[\\]^_`abcdefghijklmnopqrstuvwxyz{|}¡¢£¤¥¦§¨©ª«¬­®¯°±²³´µ¶·¸¹º»¼½¾¿ÀÁÂÃÄÅÆÇÈÉÊËÌÍÎÏÐÑÒÓÔÕÖ×ØÙÚÛÜÝÞßàáâãäåæçèéêëìíîïðñòóôõö÷øùúûüýþÿĀāĂăĄąĆćĈĉĊċČčĎďĐđĒēĔĕĖėĘęĚěĜĝĞğĠġĢģĤĥĦħĨĩĪīĬĭĮįİıĲĳĴĵĶķĸĹĺĻļĽľĿŀŁł\n"
     ]
    },
    {
     "name": "stderr",
     "output_type": "stream",
     "text": [
      "c:\\Users\\acer\\Desktop\\HW\\CV\\asg1_ascii_art\\.venv\\Lib\\site-packages\\sklearn\\decomposition\\_pca.py:648: RuntimeWarning: invalid value encountered in divide\n",
      "  explained_variance_ratio_ = explained_variance_ / total_var\n",
      "c:\\Users\\acer\\Desktop\\HW\\CV\\asg1_ascii_art\\.venv\\Lib\\site-packages\\sklearn\\decomposition\\_pca.py:648: RuntimeWarning: invalid value encountered in divide\n",
      "  explained_variance_ratio_ = explained_variance_ / total_var\n",
      "c:\\Users\\acer\\Desktop\\HW\\CV\\asg1_ascii_art\\.venv\\Lib\\site-packages\\sklearn\\decomposition\\_pca.py:648: RuntimeWarning: invalid value encountered in divide\n",
      "  explained_variance_ratio_ = explained_variance_ / total_var\n",
      "c:\\Users\\acer\\Desktop\\HW\\CV\\asg1_ascii_art\\.venv\\Lib\\site-packages\\sklearn\\decomposition\\_pca.py:648: RuntimeWarning: invalid value encountered in divide\n",
      "  explained_variance_ratio_ = explained_variance_ / total_var\n",
      "c:\\Users\\acer\\Desktop\\HW\\CV\\asg1_ascii_art\\.venv\\Lib\\site-packages\\sklearn\\decomposition\\_pca.py:648: RuntimeWarning: invalid value encountered in divide\n",
      "  explained_variance_ratio_ = explained_variance_ / total_var\n"
     ]
    },
    {
     "name": "stdout",
     "output_type": "stream",
     "text": [
      "PCA_n: 5, font_path: path/to/arial.ttf, style: arial.ttf, output_name: ./monkeyking\n",
      "name= ./monkeyking_pca_5_arial.ttf.txt\n"
     ]
    },
    {
     "name": "stderr",
     "output_type": "stream",
     "text": [
      "c:\\Users\\acer\\Desktop\\HW\\CV\\asg1_ascii_art\\.venv\\Lib\\site-packages\\sklearn\\decomposition\\_pca.py:648: RuntimeWarning: invalid value encountered in divide\n",
      "  explained_variance_ratio_ = explained_variance_ / total_var\n",
      "c:\\Users\\acer\\Desktop\\HW\\CV\\asg1_ascii_art\\.venv\\Lib\\site-packages\\sklearn\\decomposition\\_pca.py:648: RuntimeWarning: invalid value encountered in divide\n",
      "  explained_variance_ratio_ = explained_variance_ / total_var\n",
      "c:\\Users\\acer\\Desktop\\HW\\CV\\asg1_ascii_art\\.venv\\Lib\\site-packages\\sklearn\\decomposition\\_pca.py:648: RuntimeWarning: invalid value encountered in divide\n",
      "  explained_variance_ratio_ = explained_variance_ / total_var\n",
      "c:\\Users\\acer\\Desktop\\HW\\CV\\asg1_ascii_art\\.venv\\Lib\\site-packages\\sklearn\\decomposition\\_pca.py:648: RuntimeWarning: invalid value encountered in divide\n",
      "  explained_variance_ratio_ = explained_variance_ / total_var\n",
      "c:\\Users\\acer\\Desktop\\HW\\CV\\asg1_ascii_art\\.venv\\Lib\\site-packages\\sklearn\\decomposition\\_pca.py:648: RuntimeWarning: invalid value encountered in divide\n",
      "  explained_variance_ratio_ = explained_variance_ / total_var\n",
      "c:\\Users\\acer\\Desktop\\HW\\CV\\asg1_ascii_art\\.venv\\Lib\\site-packages\\sklearn\\decomposition\\_pca.py:648: RuntimeWarning: invalid value encountered in divide\n",
      "  explained_variance_ratio_ = explained_variance_ / total_var\n",
      "c:\\Users\\acer\\Desktop\\HW\\CV\\asg1_ascii_art\\.venv\\Lib\\site-packages\\sklearn\\decomposition\\_pca.py:648: RuntimeWarning: invalid value encountered in divide\n",
      "  explained_variance_ratio_ = explained_variance_ / total_var\n",
      "c:\\Users\\acer\\Desktop\\HW\\CV\\asg1_ascii_art\\.venv\\Lib\\site-packages\\sklearn\\decomposition\\_pca.py:648: RuntimeWarning: invalid value encountered in divide\n",
      "  explained_variance_ratio_ = explained_variance_ / total_var\n",
      "c:\\Users\\acer\\Desktop\\HW\\CV\\asg1_ascii_art\\.venv\\Lib\\site-packages\\sklearn\\decomposition\\_pca.py:648: RuntimeWarning: invalid value encountered in divide\n",
      "  explained_variance_ratio_ = explained_variance_ / total_var\n",
      "c:\\Users\\acer\\Desktop\\HW\\CV\\asg1_ascii_art\\.venv\\Lib\\site-packages\\sklearn\\decomposition\\_pca.py:648: RuntimeWarning: invalid value encountered in divide\n",
      "  explained_variance_ratio_ = explained_variance_ / total_var\n",
      "c:\\Users\\acer\\Desktop\\HW\\CV\\asg1_ascii_art\\.venv\\Lib\\site-packages\\sklearn\\decomposition\\_pca.py:648: RuntimeWarning: invalid value encountered in divide\n",
      "  explained_variance_ratio_ = explained_variance_ / total_var\n",
      "c:\\Users\\acer\\Desktop\\HW\\CV\\asg1_ascii_art\\.venv\\Lib\\site-packages\\sklearn\\decomposition\\_pca.py:648: RuntimeWarning: invalid value encountered in divide\n",
      "  explained_variance_ratio_ = explained_variance_ / total_var\n"
     ]
    },
    {
     "name": "stdout",
     "output_type": "stream",
     "text": [
      "./monkeyking_pca_5_arial.ttf.txt created successfully!!\n",
      "Image saved at ./monkeyking_pca_5_arial.ttf_text_arial.ttf.png\n",
      "Real Shape of Img: (1041, 736)\n",
      "Scaled Ratio of the IMG: 9\n",
      "Dimension of New IMG: 115 x 81\n",
      "Patch size Dimension: 9 X 9\n",
      " !\"#$%&'()*+,-./0123456789:;<=>?@ABCDEFGHIJKLMNOPQRSTUVWXYZ[\\]^_`abcdefghijklmnopqrstuvwxyz{|}¡¢£¤¥¦§¨©ª«¬­®¯°±²³´µ¶·¸¹º»¼½¾¿ÀÁÂÃÄÅÆÇÈÉÊËÌÍÎÏÐÑÒÓÔÕÖ×ØÙÚÛÜÝÞßàáâãäåæçèéêëìíîïðñòóôõö÷øùúûüýþÿĀāĂăĄąĆćĈĉĊċČčĎďĐđĒēĔĕĖėĘęĚěĜĝĞğĠġĢģĤĥĦħĨĩĪīĬĭĮįİıĲĳĴĵĶķĸĹĺĻļĽľĿŀŁł\n"
     ]
    },
    {
     "name": "stderr",
     "output_type": "stream",
     "text": [
      "c:\\Users\\acer\\Desktop\\HW\\CV\\asg1_ascii_art\\.venv\\Lib\\site-packages\\sklearn\\decomposition\\_pca.py:648: RuntimeWarning: invalid value encountered in divide\n",
      "  explained_variance_ratio_ = explained_variance_ / total_var\n",
      "c:\\Users\\acer\\Desktop\\HW\\CV\\asg1_ascii_art\\.venv\\Lib\\site-packages\\sklearn\\decomposition\\_pca.py:648: RuntimeWarning: invalid value encountered in divide\n",
      "  explained_variance_ratio_ = explained_variance_ / total_var\n",
      "c:\\Users\\acer\\Desktop\\HW\\CV\\asg1_ascii_art\\.venv\\Lib\\site-packages\\sklearn\\decomposition\\_pca.py:648: RuntimeWarning: invalid value encountered in divide\n",
      "  explained_variance_ratio_ = explained_variance_ / total_var\n",
      "c:\\Users\\acer\\Desktop\\HW\\CV\\asg1_ascii_art\\.venv\\Lib\\site-packages\\sklearn\\decomposition\\_pca.py:648: RuntimeWarning: invalid value encountered in divide\n",
      "  explained_variance_ratio_ = explained_variance_ / total_var\n",
      "c:\\Users\\acer\\Desktop\\HW\\CV\\asg1_ascii_art\\.venv\\Lib\\site-packages\\sklearn\\decomposition\\_pca.py:648: RuntimeWarning: invalid value encountered in divide\n",
      "  explained_variance_ratio_ = explained_variance_ / total_var\n"
     ]
    },
    {
     "name": "stdout",
     "output_type": "stream",
     "text": [
      "PCA_n: 7, font_path: path/to/arial.ttf, style: arial.ttf, output_name: ./monkeyking\n",
      "name= ./monkeyking_pca_7_arial.ttf.txt\n"
     ]
    },
    {
     "name": "stderr",
     "output_type": "stream",
     "text": [
      "c:\\Users\\acer\\Desktop\\HW\\CV\\asg1_ascii_art\\.venv\\Lib\\site-packages\\sklearn\\decomposition\\_pca.py:648: RuntimeWarning: invalid value encountered in divide\n",
      "  explained_variance_ratio_ = explained_variance_ / total_var\n",
      "c:\\Users\\acer\\Desktop\\HW\\CV\\asg1_ascii_art\\.venv\\Lib\\site-packages\\sklearn\\decomposition\\_pca.py:648: RuntimeWarning: invalid value encountered in divide\n",
      "  explained_variance_ratio_ = explained_variance_ / total_var\n",
      "c:\\Users\\acer\\Desktop\\HW\\CV\\asg1_ascii_art\\.venv\\Lib\\site-packages\\sklearn\\decomposition\\_pca.py:648: RuntimeWarning: invalid value encountered in divide\n",
      "  explained_variance_ratio_ = explained_variance_ / total_var\n",
      "c:\\Users\\acer\\Desktop\\HW\\CV\\asg1_ascii_art\\.venv\\Lib\\site-packages\\sklearn\\decomposition\\_pca.py:648: RuntimeWarning: invalid value encountered in divide\n",
      "  explained_variance_ratio_ = explained_variance_ / total_var\n",
      "c:\\Users\\acer\\Desktop\\HW\\CV\\asg1_ascii_art\\.venv\\Lib\\site-packages\\sklearn\\decomposition\\_pca.py:648: RuntimeWarning: invalid value encountered in divide\n",
      "  explained_variance_ratio_ = explained_variance_ / total_var\n",
      "c:\\Users\\acer\\Desktop\\HW\\CV\\asg1_ascii_art\\.venv\\Lib\\site-packages\\sklearn\\decomposition\\_pca.py:648: RuntimeWarning: invalid value encountered in divide\n",
      "  explained_variance_ratio_ = explained_variance_ / total_var\n",
      "c:\\Users\\acer\\Desktop\\HW\\CV\\asg1_ascii_art\\.venv\\Lib\\site-packages\\sklearn\\decomposition\\_pca.py:648: RuntimeWarning: invalid value encountered in divide\n",
      "  explained_variance_ratio_ = explained_variance_ / total_var\n",
      "c:\\Users\\acer\\Desktop\\HW\\CV\\asg1_ascii_art\\.venv\\Lib\\site-packages\\sklearn\\decomposition\\_pca.py:648: RuntimeWarning: invalid value encountered in divide\n",
      "  explained_variance_ratio_ = explained_variance_ / total_var\n",
      "c:\\Users\\acer\\Desktop\\HW\\CV\\asg1_ascii_art\\.venv\\Lib\\site-packages\\sklearn\\decomposition\\_pca.py:648: RuntimeWarning: invalid value encountered in divide\n",
      "  explained_variance_ratio_ = explained_variance_ / total_var\n",
      "c:\\Users\\acer\\Desktop\\HW\\CV\\asg1_ascii_art\\.venv\\Lib\\site-packages\\sklearn\\decomposition\\_pca.py:648: RuntimeWarning: invalid value encountered in divide\n",
      "  explained_variance_ratio_ = explained_variance_ / total_var\n",
      "c:\\Users\\acer\\Desktop\\HW\\CV\\asg1_ascii_art\\.venv\\Lib\\site-packages\\sklearn\\decomposition\\_pca.py:648: RuntimeWarning: invalid value encountered in divide\n",
      "  explained_variance_ratio_ = explained_variance_ / total_var\n",
      "c:\\Users\\acer\\Desktop\\HW\\CV\\asg1_ascii_art\\.venv\\Lib\\site-packages\\sklearn\\decomposition\\_pca.py:648: RuntimeWarning: invalid value encountered in divide\n",
      "  explained_variance_ratio_ = explained_variance_ / total_var\n"
     ]
    },
    {
     "name": "stdout",
     "output_type": "stream",
     "text": [
      "./monkeyking_pca_7_arial.ttf.txt created successfully!!\n",
      "Image saved at ./monkeyking_pca_7_arial.ttf_text_arial.ttf.png\n"
     ]
    }
   ],
   "source": [
    "for i in [3, 5, 7]:\n",
    "    obj1.data_prep(path, arial, 80, i)\n",
    "    obj1.img2ascii_file()\n",
    "    obj1.text_to_image(font_path = arial)"
   ]
  },
  {
   "cell_type": "code",
   "execution_count": 6,
   "metadata": {},
   "outputs": [
    {
     "name": "stdout",
     "output_type": "stream",
     "text": [
      "Real Shape of Img: (1041, 736)\n",
      "Scaled Ratio of the IMG: 9\n",
      "Dimension of New IMG: 115 x 81\n",
      "Patch size Dimension: 9 X 9\n",
      " !\"#$%&'()*+,-./0123456789:;<=>?@ABCDEFGHIJKLMNOPQRSTUVWXYZ[\\]^_`abcdefghijklmnopqrstuvwxyz{|}¡¢£¤¥¦§¨©ª«¬­®¯°±²³´µ¶·¸¹º»¼½¾¿ÀÁÂÃÄÅÆÇÈÉÊËÌÍÎÏÐÑÒÓÔÕÖ×ØÙÚÛÜÝÞßàáâãäåæçèéêëìíîïðñòóôõö÷øùúûüýþÿĀāĂăĄąĆćĈĉĊċČčĎďĐđĒēĔĕĖėĘęĚěĜĝĞğĠġĢģĤĥĦħĨĩĪīĬĭĮįİıĲĳĴĵĶķĸĹĺĻļĽľĿŀŁł\n"
     ]
    },
    {
     "name": "stderr",
     "output_type": "stream",
     "text": [
      "c:\\Users\\acer\\Desktop\\HW\\CV\\asg1_ascii_art\\.venv\\Lib\\site-packages\\sklearn\\decomposition\\_pca.py:648: RuntimeWarning: invalid value encountered in divide\n",
      "  explained_variance_ratio_ = explained_variance_ / total_var\n",
      "c:\\Users\\acer\\Desktop\\HW\\CV\\asg1_ascii_art\\.venv\\Lib\\site-packages\\sklearn\\decomposition\\_pca.py:648: RuntimeWarning: invalid value encountered in divide\n",
      "  explained_variance_ratio_ = explained_variance_ / total_var\n",
      "c:\\Users\\acer\\Desktop\\HW\\CV\\asg1_ascii_art\\.venv\\Lib\\site-packages\\sklearn\\decomposition\\_pca.py:648: RuntimeWarning: invalid value encountered in divide\n",
      "  explained_variance_ratio_ = explained_variance_ / total_var\n",
      "c:\\Users\\acer\\Desktop\\HW\\CV\\asg1_ascii_art\\.venv\\Lib\\site-packages\\sklearn\\decomposition\\_pca.py:648: RuntimeWarning: invalid value encountered in divide\n",
      "  explained_variance_ratio_ = explained_variance_ / total_var\n",
      "c:\\Users\\acer\\Desktop\\HW\\CV\\asg1_ascii_art\\.venv\\Lib\\site-packages\\sklearn\\decomposition\\_pca.py:648: RuntimeWarning: invalid value encountered in divide\n",
      "  explained_variance_ratio_ = explained_variance_ / total_var\n"
     ]
    },
    {
     "name": "stdout",
     "output_type": "stream",
     "text": [
      "PCA_n: 3, font_path: path/to/times.ttf, style: times.ttf, output_name: ./monkeyking\n",
      "name= ./monkeyking_pca_3_times.ttf.txt\n"
     ]
    },
    {
     "name": "stderr",
     "output_type": "stream",
     "text": [
      "c:\\Users\\acer\\Desktop\\HW\\CV\\asg1_ascii_art\\.venv\\Lib\\site-packages\\sklearn\\decomposition\\_pca.py:648: RuntimeWarning: invalid value encountered in divide\n",
      "  explained_variance_ratio_ = explained_variance_ / total_var\n",
      "c:\\Users\\acer\\Desktop\\HW\\CV\\asg1_ascii_art\\.venv\\Lib\\site-packages\\sklearn\\decomposition\\_pca.py:648: RuntimeWarning: invalid value encountered in divide\n",
      "  explained_variance_ratio_ = explained_variance_ / total_var\n",
      "c:\\Users\\acer\\Desktop\\HW\\CV\\asg1_ascii_art\\.venv\\Lib\\site-packages\\sklearn\\decomposition\\_pca.py:648: RuntimeWarning: invalid value encountered in divide\n",
      "  explained_variance_ratio_ = explained_variance_ / total_var\n",
      "c:\\Users\\acer\\Desktop\\HW\\CV\\asg1_ascii_art\\.venv\\Lib\\site-packages\\sklearn\\decomposition\\_pca.py:648: RuntimeWarning: invalid value encountered in divide\n",
      "  explained_variance_ratio_ = explained_variance_ / total_var\n",
      "c:\\Users\\acer\\Desktop\\HW\\CV\\asg1_ascii_art\\.venv\\Lib\\site-packages\\sklearn\\decomposition\\_pca.py:648: RuntimeWarning: invalid value encountered in divide\n",
      "  explained_variance_ratio_ = explained_variance_ / total_var\n",
      "c:\\Users\\acer\\Desktop\\HW\\CV\\asg1_ascii_art\\.venv\\Lib\\site-packages\\sklearn\\decomposition\\_pca.py:648: RuntimeWarning: invalid value encountered in divide\n",
      "  explained_variance_ratio_ = explained_variance_ / total_var\n",
      "c:\\Users\\acer\\Desktop\\HW\\CV\\asg1_ascii_art\\.venv\\Lib\\site-packages\\sklearn\\decomposition\\_pca.py:648: RuntimeWarning: invalid value encountered in divide\n",
      "  explained_variance_ratio_ = explained_variance_ / total_var\n",
      "c:\\Users\\acer\\Desktop\\HW\\CV\\asg1_ascii_art\\.venv\\Lib\\site-packages\\sklearn\\decomposition\\_pca.py:648: RuntimeWarning: invalid value encountered in divide\n",
      "  explained_variance_ratio_ = explained_variance_ / total_var\n",
      "c:\\Users\\acer\\Desktop\\HW\\CV\\asg1_ascii_art\\.venv\\Lib\\site-packages\\sklearn\\decomposition\\_pca.py:648: RuntimeWarning: invalid value encountered in divide\n",
      "  explained_variance_ratio_ = explained_variance_ / total_var\n",
      "c:\\Users\\acer\\Desktop\\HW\\CV\\asg1_ascii_art\\.venv\\Lib\\site-packages\\sklearn\\decomposition\\_pca.py:648: RuntimeWarning: invalid value encountered in divide\n",
      "  explained_variance_ratio_ = explained_variance_ / total_var\n",
      "c:\\Users\\acer\\Desktop\\HW\\CV\\asg1_ascii_art\\.venv\\Lib\\site-packages\\sklearn\\decomposition\\_pca.py:648: RuntimeWarning: invalid value encountered in divide\n",
      "  explained_variance_ratio_ = explained_variance_ / total_var\n",
      "c:\\Users\\acer\\Desktop\\HW\\CV\\asg1_ascii_art\\.venv\\Lib\\site-packages\\sklearn\\decomposition\\_pca.py:648: RuntimeWarning: invalid value encountered in divide\n",
      "  explained_variance_ratio_ = explained_variance_ / total_var\n"
     ]
    },
    {
     "name": "stdout",
     "output_type": "stream",
     "text": [
      "./monkeyking_pca_3_times.ttf.txt created successfully!!\n",
      "Image saved at ./monkeyking_pca_3_times.ttf_text_times.ttf.png\n",
      "Real Shape of Img: (1041, 736)\n",
      "Scaled Ratio of the IMG: 9\n",
      "Dimension of New IMG: 115 x 81\n",
      "Patch size Dimension: 9 X 9\n",
      " !\"#$%&'()*+,-./0123456789:;<=>?@ABCDEFGHIJKLMNOPQRSTUVWXYZ[\\]^_`abcdefghijklmnopqrstuvwxyz{|}¡¢£¤¥¦§¨©ª«¬­®¯°±²³´µ¶·¸¹º»¼½¾¿ÀÁÂÃÄÅÆÇÈÉÊËÌÍÎÏÐÑÒÓÔÕÖ×ØÙÚÛÜÝÞßàáâãäåæçèéêëìíîïðñòóôõö÷øùúûüýþÿĀāĂăĄąĆćĈĉĊċČčĎďĐđĒēĔĕĖėĘęĚěĜĝĞğĠġĢģĤĥĦħĨĩĪīĬĭĮįİıĲĳĴĵĶķĸĹĺĻļĽľĿŀŁł\n"
     ]
    },
    {
     "name": "stderr",
     "output_type": "stream",
     "text": [
      "c:\\Users\\acer\\Desktop\\HW\\CV\\asg1_ascii_art\\.venv\\Lib\\site-packages\\sklearn\\decomposition\\_pca.py:648: RuntimeWarning: invalid value encountered in divide\n",
      "  explained_variance_ratio_ = explained_variance_ / total_var\n",
      "c:\\Users\\acer\\Desktop\\HW\\CV\\asg1_ascii_art\\.venv\\Lib\\site-packages\\sklearn\\decomposition\\_pca.py:648: RuntimeWarning: invalid value encountered in divide\n",
      "  explained_variance_ratio_ = explained_variance_ / total_var\n",
      "c:\\Users\\acer\\Desktop\\HW\\CV\\asg1_ascii_art\\.venv\\Lib\\site-packages\\sklearn\\decomposition\\_pca.py:648: RuntimeWarning: invalid value encountered in divide\n",
      "  explained_variance_ratio_ = explained_variance_ / total_var\n",
      "c:\\Users\\acer\\Desktop\\HW\\CV\\asg1_ascii_art\\.venv\\Lib\\site-packages\\sklearn\\decomposition\\_pca.py:648: RuntimeWarning: invalid value encountered in divide\n",
      "  explained_variance_ratio_ = explained_variance_ / total_var\n",
      "c:\\Users\\acer\\Desktop\\HW\\CV\\asg1_ascii_art\\.venv\\Lib\\site-packages\\sklearn\\decomposition\\_pca.py:648: RuntimeWarning: invalid value encountered in divide\n",
      "  explained_variance_ratio_ = explained_variance_ / total_var\n"
     ]
    },
    {
     "name": "stdout",
     "output_type": "stream",
     "text": [
      "PCA_n: 5, font_path: path/to/times.ttf, style: times.ttf, output_name: ./monkeyking\n",
      "name= ./monkeyking_pca_5_times.ttf.txt\n"
     ]
    },
    {
     "name": "stderr",
     "output_type": "stream",
     "text": [
      "c:\\Users\\acer\\Desktop\\HW\\CV\\asg1_ascii_art\\.venv\\Lib\\site-packages\\sklearn\\decomposition\\_pca.py:648: RuntimeWarning: invalid value encountered in divide\n",
      "  explained_variance_ratio_ = explained_variance_ / total_var\n",
      "c:\\Users\\acer\\Desktop\\HW\\CV\\asg1_ascii_art\\.venv\\Lib\\site-packages\\sklearn\\decomposition\\_pca.py:648: RuntimeWarning: invalid value encountered in divide\n",
      "  explained_variance_ratio_ = explained_variance_ / total_var\n",
      "c:\\Users\\acer\\Desktop\\HW\\CV\\asg1_ascii_art\\.venv\\Lib\\site-packages\\sklearn\\decomposition\\_pca.py:648: RuntimeWarning: invalid value encountered in divide\n",
      "  explained_variance_ratio_ = explained_variance_ / total_var\n",
      "c:\\Users\\acer\\Desktop\\HW\\CV\\asg1_ascii_art\\.venv\\Lib\\site-packages\\sklearn\\decomposition\\_pca.py:648: RuntimeWarning: invalid value encountered in divide\n",
      "  explained_variance_ratio_ = explained_variance_ / total_var\n",
      "c:\\Users\\acer\\Desktop\\HW\\CV\\asg1_ascii_art\\.venv\\Lib\\site-packages\\sklearn\\decomposition\\_pca.py:648: RuntimeWarning: invalid value encountered in divide\n",
      "  explained_variance_ratio_ = explained_variance_ / total_var\n",
      "c:\\Users\\acer\\Desktop\\HW\\CV\\asg1_ascii_art\\.venv\\Lib\\site-packages\\sklearn\\decomposition\\_pca.py:648: RuntimeWarning: invalid value encountered in divide\n",
      "  explained_variance_ratio_ = explained_variance_ / total_var\n",
      "c:\\Users\\acer\\Desktop\\HW\\CV\\asg1_ascii_art\\.venv\\Lib\\site-packages\\sklearn\\decomposition\\_pca.py:648: RuntimeWarning: invalid value encountered in divide\n",
      "  explained_variance_ratio_ = explained_variance_ / total_var\n",
      "c:\\Users\\acer\\Desktop\\HW\\CV\\asg1_ascii_art\\.venv\\Lib\\site-packages\\sklearn\\decomposition\\_pca.py:648: RuntimeWarning: invalid value encountered in divide\n",
      "  explained_variance_ratio_ = explained_variance_ / total_var\n",
      "c:\\Users\\acer\\Desktop\\HW\\CV\\asg1_ascii_art\\.venv\\Lib\\site-packages\\sklearn\\decomposition\\_pca.py:648: RuntimeWarning: invalid value encountered in divide\n",
      "  explained_variance_ratio_ = explained_variance_ / total_var\n",
      "c:\\Users\\acer\\Desktop\\HW\\CV\\asg1_ascii_art\\.venv\\Lib\\site-packages\\sklearn\\decomposition\\_pca.py:648: RuntimeWarning: invalid value encountered in divide\n",
      "  explained_variance_ratio_ = explained_variance_ / total_var\n",
      "c:\\Users\\acer\\Desktop\\HW\\CV\\asg1_ascii_art\\.venv\\Lib\\site-packages\\sklearn\\decomposition\\_pca.py:648: RuntimeWarning: invalid value encountered in divide\n",
      "  explained_variance_ratio_ = explained_variance_ / total_var\n",
      "c:\\Users\\acer\\Desktop\\HW\\CV\\asg1_ascii_art\\.venv\\Lib\\site-packages\\sklearn\\decomposition\\_pca.py:648: RuntimeWarning: invalid value encountered in divide\n",
      "  explained_variance_ratio_ = explained_variance_ / total_var\n"
     ]
    },
    {
     "name": "stdout",
     "output_type": "stream",
     "text": [
      "./monkeyking_pca_5_times.ttf.txt created successfully!!\n",
      "Image saved at ./monkeyking_pca_5_times.ttf_text_times.ttf.png\n",
      "Real Shape of Img: (1041, 736)\n",
      "Scaled Ratio of the IMG: 9\n",
      "Dimension of New IMG: 115 x 81\n",
      "Patch size Dimension: 9 X 9\n",
      " !\"#$%&'()*+,-./0123456789:;<=>?@ABCDEFGHIJKLMNOPQRSTUVWXYZ[\\]^_`abcdefghijklmnopqrstuvwxyz{|}¡¢£¤¥¦§¨©ª«¬­®¯°±²³´µ¶·¸¹º»¼½¾¿ÀÁÂÃÄÅÆÇÈÉÊËÌÍÎÏÐÑÒÓÔÕÖ×ØÙÚÛÜÝÞßàáâãäåæçèéêëìíîïðñòóôõö÷øùúûüýþÿĀāĂăĄąĆćĈĉĊċČčĎďĐđĒēĔĕĖėĘęĚěĜĝĞğĠġĢģĤĥĦħĨĩĪīĬĭĮįİıĲĳĴĵĶķĸĹĺĻļĽľĿŀŁł\n"
     ]
    },
    {
     "name": "stderr",
     "output_type": "stream",
     "text": [
      "c:\\Users\\acer\\Desktop\\HW\\CV\\asg1_ascii_art\\.venv\\Lib\\site-packages\\sklearn\\decomposition\\_pca.py:648: RuntimeWarning: invalid value encountered in divide\n",
      "  explained_variance_ratio_ = explained_variance_ / total_var\n",
      "c:\\Users\\acer\\Desktop\\HW\\CV\\asg1_ascii_art\\.venv\\Lib\\site-packages\\sklearn\\decomposition\\_pca.py:648: RuntimeWarning: invalid value encountered in divide\n",
      "  explained_variance_ratio_ = explained_variance_ / total_var\n",
      "c:\\Users\\acer\\Desktop\\HW\\CV\\asg1_ascii_art\\.venv\\Lib\\site-packages\\sklearn\\decomposition\\_pca.py:648: RuntimeWarning: invalid value encountered in divide\n",
      "  explained_variance_ratio_ = explained_variance_ / total_var\n",
      "c:\\Users\\acer\\Desktop\\HW\\CV\\asg1_ascii_art\\.venv\\Lib\\site-packages\\sklearn\\decomposition\\_pca.py:648: RuntimeWarning: invalid value encountered in divide\n",
      "  explained_variance_ratio_ = explained_variance_ / total_var\n",
      "c:\\Users\\acer\\Desktop\\HW\\CV\\asg1_ascii_art\\.venv\\Lib\\site-packages\\sklearn\\decomposition\\_pca.py:648: RuntimeWarning: invalid value encountered in divide\n",
      "  explained_variance_ratio_ = explained_variance_ / total_var\n"
     ]
    },
    {
     "name": "stdout",
     "output_type": "stream",
     "text": [
      "PCA_n: 7, font_path: path/to/times.ttf, style: times.ttf, output_name: ./monkeyking\n",
      "name= ./monkeyking_pca_7_times.ttf.txt\n"
     ]
    },
    {
     "name": "stderr",
     "output_type": "stream",
     "text": [
      "c:\\Users\\acer\\Desktop\\HW\\CV\\asg1_ascii_art\\.venv\\Lib\\site-packages\\sklearn\\decomposition\\_pca.py:648: RuntimeWarning: invalid value encountered in divide\n",
      "  explained_variance_ratio_ = explained_variance_ / total_var\n",
      "c:\\Users\\acer\\Desktop\\HW\\CV\\asg1_ascii_art\\.venv\\Lib\\site-packages\\sklearn\\decomposition\\_pca.py:648: RuntimeWarning: invalid value encountered in divide\n",
      "  explained_variance_ratio_ = explained_variance_ / total_var\n",
      "c:\\Users\\acer\\Desktop\\HW\\CV\\asg1_ascii_art\\.venv\\Lib\\site-packages\\sklearn\\decomposition\\_pca.py:648: RuntimeWarning: invalid value encountered in divide\n",
      "  explained_variance_ratio_ = explained_variance_ / total_var\n",
      "c:\\Users\\acer\\Desktop\\HW\\CV\\asg1_ascii_art\\.venv\\Lib\\site-packages\\sklearn\\decomposition\\_pca.py:648: RuntimeWarning: invalid value encountered in divide\n",
      "  explained_variance_ratio_ = explained_variance_ / total_var\n",
      "c:\\Users\\acer\\Desktop\\HW\\CV\\asg1_ascii_art\\.venv\\Lib\\site-packages\\sklearn\\decomposition\\_pca.py:648: RuntimeWarning: invalid value encountered in divide\n",
      "  explained_variance_ratio_ = explained_variance_ / total_var\n",
      "c:\\Users\\acer\\Desktop\\HW\\CV\\asg1_ascii_art\\.venv\\Lib\\site-packages\\sklearn\\decomposition\\_pca.py:648: RuntimeWarning: invalid value encountered in divide\n",
      "  explained_variance_ratio_ = explained_variance_ / total_var\n",
      "c:\\Users\\acer\\Desktop\\HW\\CV\\asg1_ascii_art\\.venv\\Lib\\site-packages\\sklearn\\decomposition\\_pca.py:648: RuntimeWarning: invalid value encountered in divide\n",
      "  explained_variance_ratio_ = explained_variance_ / total_var\n",
      "c:\\Users\\acer\\Desktop\\HW\\CV\\asg1_ascii_art\\.venv\\Lib\\site-packages\\sklearn\\decomposition\\_pca.py:648: RuntimeWarning: invalid value encountered in divide\n",
      "  explained_variance_ratio_ = explained_variance_ / total_var\n",
      "c:\\Users\\acer\\Desktop\\HW\\CV\\asg1_ascii_art\\.venv\\Lib\\site-packages\\sklearn\\decomposition\\_pca.py:648: RuntimeWarning: invalid value encountered in divide\n",
      "  explained_variance_ratio_ = explained_variance_ / total_var\n",
      "c:\\Users\\acer\\Desktop\\HW\\CV\\asg1_ascii_art\\.venv\\Lib\\site-packages\\sklearn\\decomposition\\_pca.py:648: RuntimeWarning: invalid value encountered in divide\n",
      "  explained_variance_ratio_ = explained_variance_ / total_var\n",
      "c:\\Users\\acer\\Desktop\\HW\\CV\\asg1_ascii_art\\.venv\\Lib\\site-packages\\sklearn\\decomposition\\_pca.py:648: RuntimeWarning: invalid value encountered in divide\n",
      "  explained_variance_ratio_ = explained_variance_ / total_var\n",
      "c:\\Users\\acer\\Desktop\\HW\\CV\\asg1_ascii_art\\.venv\\Lib\\site-packages\\sklearn\\decomposition\\_pca.py:648: RuntimeWarning: invalid value encountered in divide\n",
      "  explained_variance_ratio_ = explained_variance_ / total_var\n"
     ]
    },
    {
     "name": "stdout",
     "output_type": "stream",
     "text": [
      "./monkeyking_pca_7_times.ttf.txt created successfully!!\n",
      "Image saved at ./monkeyking_pca_7_times.ttf_text_times.ttf.png\n"
     ]
    }
   ],
   "source": [
    "for i in [3, 5, 7]:\n",
    "    obj1.data_prep(path, times_new_roman, 80, i)\n",
    "    obj1.img2ascii_file()\n",
    "    obj1.text_to_image(font_path = times_new_roman)"
   ]
  },
  {
   "cell_type": "code",
   "execution_count": 19,
   "metadata": {},
   "outputs": [
    {
     "name": "stdout",
     "output_type": "stream",
     "text": [
      "Real Shape of Img: (1041, 736)\n",
      "Scaled Ratio of the IMG: 9\n",
      "Dimension of New IMG: 115 x 81\n",
      "Patch size Dimension: 9 X 9\n",
      " !\"#$%&'()*+,-./0123456789:;<=>?@ABCDEFGHIJKLMNOPQRSTUVWXYZ[\\]^_`abcdefghijklmnopqrstuvwxyz{|}¡¢£¤¥¦§¨©ª«¬­®¯°±²³´µ¶·¸¹º»¼½¾¿ÀÁÂÃÄÅÆÇÈÉÊËÌÍÎÏÐÑÒÓÔÕÖ×ØÙÚÛÜÝÞßàáâãäåæçèéêëìíîïðñòóôõö÷øùúûüýþÿĀāĂăĄąĆćĈĉĊċČčĎďĐđĒēĔĕĖėĘęĚěĜĝĞğĠġĢģĤĥĦħĨĩĪīĬĭĮįİıĲĳĴĵĶķĸĹĺĻļĽľĿŀŁł\n"
     ]
    },
    {
     "name": "stderr",
     "output_type": "stream",
     "text": [
      "c:\\Users\\acer\\Desktop\\HW\\CV\\asg1_ascii_art\\.venv\\Lib\\site-packages\\sklearn\\decomposition\\_pca.py:648: RuntimeWarning: invalid value encountered in divide\n",
      "  explained_variance_ratio_ = explained_variance_ / total_var\n",
      "c:\\Users\\acer\\Desktop\\HW\\CV\\asg1_ascii_art\\.venv\\Lib\\site-packages\\sklearn\\decomposition\\_pca.py:648: RuntimeWarning: invalid value encountered in divide\n",
      "  explained_variance_ratio_ = explained_variance_ / total_var\n"
     ]
    },
    {
     "name": "stdout",
     "output_type": "stream",
     "text": [
      "PCA_n: 5, font_path: path/to/cour.ttf, style: cour.ttf, output_name: ./monkeyking\n"
     ]
    }
   ],
   "source": [
    "obj1.data_prep(path, courier, 80, 5)"
   ]
  },
  {
   "cell_type": "code",
   "execution_count": 20,
   "metadata": {},
   "outputs": [
    {
     "data": {
      "text/plain": [
       "array([[  0,   0,   0,   0,   0,   0,   0,   0,   0,   0],\n",
       "       [  0,   0,   0,   0,   0,   0,   0,   0,   0,   0],\n",
       "       [  0,   0,   0,   0,   0,   0,   0,   0,   0,   0],\n",
       "       [  0,   0,   0,   0,   0,   0,   0,   0,   0,   0],\n",
       "       [  0,   0,   0,   0,   0,   0,   0,   0,   0,   0],\n",
       "       [  0,   0,  77, 253,  21, 172, 180,   0,   0,   0],\n",
       "       [  0,   0,   0,  63,  79,  80,  16,   0,   0,   0],\n",
       "       [  0,   0,   4,  75,  61,  80,  31,   0,   0,   0],\n",
       "       [  0,   0, 129, 253,  21, 169, 232,   0,   0,   0],\n",
       "       [  0,   0,   0,   0,   0,   0,   0,   0,   0,   0]], dtype=uint8)"
      ]
     },
     "execution_count": 20,
     "metadata": {},
     "output_type": "execute_result"
    }
   ],
   "source": [
    "obj1.char2img('x')"
   ]
  },
  {
   "cell_type": "code",
   "execution_count": 21,
   "metadata": {},
   "outputs": [
    {
     "data": {
      "text/plain": [
       "array([[-34.78315981, -33.14453109,  -5.68697247,   1.49683919,\n",
       "         -0.88305878],\n",
       "       [-34.78315981, -33.14453109,  -5.68697247,   1.49683919,\n",
       "         -0.88305878],\n",
       "       [102.07299799,  -9.80589156,  19.1022504 , -10.7584302 ,\n",
       "         -0.93577919],\n",
       "       [  9.31556309,  39.14362774, -26.37650833, -11.12384568,\n",
       "          0.66165868],\n",
       "       [-51.5364002 ,  46.25491017,  11.73746481,   0.86367175,\n",
       "         -1.0969495 ],\n",
       "       [-48.45219089,  49.27940968,  10.61931578,   5.01483082,\n",
       "          0.59351695],\n",
       "       [118.17957794,   9.11619303,  -7.8669305 ,  13.49933462,\n",
       "          0.38971106],\n",
       "       [-25.2300685 , -34.5546558 ,   9.84532524,  -1.98607888,\n",
       "          3.03701833],\n",
       "       [-34.78315981, -33.14453109,  -5.68697247,   1.49683919,\n",
       "         -0.88305878]])"
      ]
     },
     "execution_count": 21,
     "metadata": {},
     "output_type": "execute_result"
    }
   ],
   "source": [
    "obj1.ascii_dataset[35][1]"
   ]
  },
  {
   "cell_type": "code",
   "execution_count": 22,
   "metadata": {},
   "outputs": [
    {
     "name": "stdout",
     "output_type": "stream",
     "text": [
      "name= ./monkeyking_pca_5_cour.ttf.txt\n"
     ]
    },
    {
     "name": "stderr",
     "output_type": "stream",
     "text": [
      "c:\\Users\\acer\\Desktop\\HW\\CV\\asg1_ascii_art\\.venv\\Lib\\site-packages\\sklearn\\decomposition\\_pca.py:648: RuntimeWarning: invalid value encountered in divide\n",
      "  explained_variance_ratio_ = explained_variance_ / total_var\n",
      "c:\\Users\\acer\\Desktop\\HW\\CV\\asg1_ascii_art\\.venv\\Lib\\site-packages\\sklearn\\decomposition\\_pca.py:648: RuntimeWarning: invalid value encountered in divide\n",
      "  explained_variance_ratio_ = explained_variance_ / total_var\n",
      "c:\\Users\\acer\\Desktop\\HW\\CV\\asg1_ascii_art\\.venv\\Lib\\site-packages\\sklearn\\decomposition\\_pca.py:648: RuntimeWarning: invalid value encountered in divide\n",
      "  explained_variance_ratio_ = explained_variance_ / total_var\n",
      "c:\\Users\\acer\\Desktop\\HW\\CV\\asg1_ascii_art\\.venv\\Lib\\site-packages\\sklearn\\decomposition\\_pca.py:648: RuntimeWarning: invalid value encountered in divide\n",
      "  explained_variance_ratio_ = explained_variance_ / total_var\n",
      "c:\\Users\\acer\\Desktop\\HW\\CV\\asg1_ascii_art\\.venv\\Lib\\site-packages\\sklearn\\decomposition\\_pca.py:648: RuntimeWarning: invalid value encountered in divide\n",
      "  explained_variance_ratio_ = explained_variance_ / total_var\n",
      "c:\\Users\\acer\\Desktop\\HW\\CV\\asg1_ascii_art\\.venv\\Lib\\site-packages\\sklearn\\decomposition\\_pca.py:648: RuntimeWarning: invalid value encountered in divide\n",
      "  explained_variance_ratio_ = explained_variance_ / total_var\n",
      "c:\\Users\\acer\\Desktop\\HW\\CV\\asg1_ascii_art\\.venv\\Lib\\site-packages\\sklearn\\decomposition\\_pca.py:648: RuntimeWarning: invalid value encountered in divide\n",
      "  explained_variance_ratio_ = explained_variance_ / total_var\n",
      "c:\\Users\\acer\\Desktop\\HW\\CV\\asg1_ascii_art\\.venv\\Lib\\site-packages\\sklearn\\decomposition\\_pca.py:648: RuntimeWarning: invalid value encountered in divide\n",
      "  explained_variance_ratio_ = explained_variance_ / total_var\n",
      "c:\\Users\\acer\\Desktop\\HW\\CV\\asg1_ascii_art\\.venv\\Lib\\site-packages\\sklearn\\decomposition\\_pca.py:648: RuntimeWarning: invalid value encountered in divide\n",
      "  explained_variance_ratio_ = explained_variance_ / total_var\n",
      "c:\\Users\\acer\\Desktop\\HW\\CV\\asg1_ascii_art\\.venv\\Lib\\site-packages\\sklearn\\decomposition\\_pca.py:648: RuntimeWarning: invalid value encountered in divide\n",
      "  explained_variance_ratio_ = explained_variance_ / total_var\n"
     ]
    },
    {
     "name": "stdout",
     "output_type": "stream",
     "text": [
      "./monkeyking_pca_5_cour.ttf.txt created successfully!!\n"
     ]
    },
    {
     "name": "stderr",
     "output_type": "stream",
     "text": [
      "c:\\Users\\acer\\Desktop\\HW\\CV\\asg1_ascii_art\\.venv\\Lib\\site-packages\\sklearn\\decomposition\\_pca.py:648: RuntimeWarning: invalid value encountered in divide\n",
      "  explained_variance_ratio_ = explained_variance_ / total_var\n",
      "c:\\Users\\acer\\Desktop\\HW\\CV\\asg1_ascii_art\\.venv\\Lib\\site-packages\\sklearn\\decomposition\\_pca.py:648: RuntimeWarning: invalid value encountered in divide\n",
      "  explained_variance_ratio_ = explained_variance_ / total_var\n"
     ]
    }
   ],
   "source": [
    "obj1.img2ascii_file()"
   ]
  },
  {
   "cell_type": "code",
   "execution_count": 23,
   "metadata": {},
   "outputs": [
    {
     "name": "stdout",
     "output_type": "stream",
     "text": [
      "Image saved at ./monkeyking_pca_5_cour.ttf_text_cour.ttf.png\n"
     ]
    }
   ],
   "source": [
    "obj1.text_to_image(font_path = courier)"
   ]
  },
  {
   "cell_type": "code",
   "execution_count": 1,
   "metadata": {},
   "outputs": [],
   "source": [
    "from asg1_2_L1 import ascii_by_pca_L1"
   ]
  },
  {
   "cell_type": "code",
   "execution_count": 2,
   "metadata": {},
   "outputs": [],
   "source": [
    "obj2 = ascii_by_pca_L1()"
   ]
  },
  {
   "cell_type": "code",
   "execution_count": 7,
   "metadata": {},
   "outputs": [],
   "source": [
    "path = \"./monkeyking.jpg\""
   ]
  },
  {
   "cell_type": "code",
   "execution_count": 12,
   "metadata": {},
   "outputs": [
    {
     "name": "stdout",
     "output_type": "stream",
     "text": [
      "Real Shape of Img: (1041, 736)\n",
      "Scaled Ratio of the IMG: 9\n",
      "Dimension of New IMG: 115 x 81\n",
      "Patch size Dimension: 9 X 9\n",
      " !\"#$%&'()*+,-./0123456789:;<=>?@ABCDEFGHIJKLMNOPQRSTUVWXYZ[\\]^_`abcdefghijklmnopqrstuvwxyz{|}¡¢£¤¥¦§¨©ª«¬­®¯°±²³´µ¶·¸¹º»¼½¾¿ÀÁÂÃÄÅÆÇÈÉÊËÌÍÎÏÐÑÒÓÔÕÖ×ØÙÚÛÜÝÞßàáâãäåæçèéêëìíîïðñòóôõö÷øùúûüýþÿĀāĂăĄąĆćĈĉĊċČčĎďĐđĒēĔĕĖėĘęĚěĜĝĞğĠġĢģĤĥĦħĨĩĪīĬĭĮįİıĲĳĴĵĶķĸĹĺĻļĽľĿŀŁł\n"
     ]
    },
    {
     "name": "stderr",
     "output_type": "stream",
     "text": [
      "c:\\Users\\acer\\Desktop\\HW\\CV\\asg1_ascii_art\\.venv\\Lib\\site-packages\\sklearn\\decomposition\\_pca.py:648: RuntimeWarning: invalid value encountered in divide\n",
      "  explained_variance_ratio_ = explained_variance_ / total_var\n",
      "c:\\Users\\acer\\Desktop\\HW\\CV\\asg1_ascii_art\\.venv\\Lib\\site-packages\\sklearn\\decomposition\\_pca.py:648: RuntimeWarning: invalid value encountered in divide\n",
      "  explained_variance_ratio_ = explained_variance_ / total_var\n",
      "c:\\Users\\acer\\Desktop\\HW\\CV\\asg1_ascii_art\\.venv\\Lib\\site-packages\\sklearn\\decomposition\\_pca.py:648: RuntimeWarning: invalid value encountered in divide\n",
      "  explained_variance_ratio_ = explained_variance_ / total_var\n",
      "c:\\Users\\acer\\Desktop\\HW\\CV\\asg1_ascii_art\\.venv\\Lib\\site-packages\\sklearn\\decomposition\\_pca.py:648: RuntimeWarning: invalid value encountered in divide\n",
      "  explained_variance_ratio_ = explained_variance_ / total_var\n",
      "c:\\Users\\acer\\Desktop\\HW\\CV\\asg1_ascii_art\\.venv\\Lib\\site-packages\\sklearn\\decomposition\\_pca.py:648: RuntimeWarning: invalid value encountered in divide\n",
      "  explained_variance_ratio_ = explained_variance_ / total_var\n"
     ]
    },
    {
     "name": "stdout",
     "output_type": "stream",
     "text": [
      "PCA_n: 3, font_path: path/to/arial.ttf, style: arial.ttf, output_name: ./monkeyking\n",
      "name= ./monkeyking_L1_1pca_3_arial.ttf.txt\n"
     ]
    },
    {
     "name": "stderr",
     "output_type": "stream",
     "text": [
      "c:\\Users\\acer\\Desktop\\HW\\CV\\asg1_ascii_art\\.venv\\Lib\\site-packages\\sklearn\\decomposition\\_pca.py:648: RuntimeWarning: invalid value encountered in divide\n",
      "  explained_variance_ratio_ = explained_variance_ / total_var\n",
      "c:\\Users\\acer\\Desktop\\HW\\CV\\asg1_ascii_art\\.venv\\Lib\\site-packages\\sklearn\\decomposition\\_pca.py:648: RuntimeWarning: invalid value encountered in divide\n",
      "  explained_variance_ratio_ = explained_variance_ / total_var\n",
      "c:\\Users\\acer\\Desktop\\HW\\CV\\asg1_ascii_art\\.venv\\Lib\\site-packages\\sklearn\\decomposition\\_pca.py:648: RuntimeWarning: invalid value encountered in divide\n",
      "  explained_variance_ratio_ = explained_variance_ / total_var\n",
      "c:\\Users\\acer\\Desktop\\HW\\CV\\asg1_ascii_art\\.venv\\Lib\\site-packages\\sklearn\\decomposition\\_pca.py:648: RuntimeWarning: invalid value encountered in divide\n",
      "  explained_variance_ratio_ = explained_variance_ / total_var\n",
      "c:\\Users\\acer\\Desktop\\HW\\CV\\asg1_ascii_art\\.venv\\Lib\\site-packages\\sklearn\\decomposition\\_pca.py:648: RuntimeWarning: invalid value encountered in divide\n",
      "  explained_variance_ratio_ = explained_variance_ / total_var\n",
      "c:\\Users\\acer\\Desktop\\HW\\CV\\asg1_ascii_art\\.venv\\Lib\\site-packages\\sklearn\\decomposition\\_pca.py:648: RuntimeWarning: invalid value encountered in divide\n",
      "  explained_variance_ratio_ = explained_variance_ / total_var\n",
      "c:\\Users\\acer\\Desktop\\HW\\CV\\asg1_ascii_art\\.venv\\Lib\\site-packages\\sklearn\\decomposition\\_pca.py:648: RuntimeWarning: invalid value encountered in divide\n",
      "  explained_variance_ratio_ = explained_variance_ / total_var\n",
      "c:\\Users\\acer\\Desktop\\HW\\CV\\asg1_ascii_art\\.venv\\Lib\\site-packages\\sklearn\\decomposition\\_pca.py:648: RuntimeWarning: invalid value encountered in divide\n",
      "  explained_variance_ratio_ = explained_variance_ / total_var\n",
      "c:\\Users\\acer\\Desktop\\HW\\CV\\asg1_ascii_art\\.venv\\Lib\\site-packages\\sklearn\\decomposition\\_pca.py:648: RuntimeWarning: invalid value encountered in divide\n",
      "  explained_variance_ratio_ = explained_variance_ / total_var\n",
      "c:\\Users\\acer\\Desktop\\HW\\CV\\asg1_ascii_art\\.venv\\Lib\\site-packages\\sklearn\\decomposition\\_pca.py:648: RuntimeWarning: invalid value encountered in divide\n",
      "  explained_variance_ratio_ = explained_variance_ / total_var\n",
      "c:\\Users\\acer\\Desktop\\HW\\CV\\asg1_ascii_art\\.venv\\Lib\\site-packages\\sklearn\\decomposition\\_pca.py:648: RuntimeWarning: invalid value encountered in divide\n",
      "  explained_variance_ratio_ = explained_variance_ / total_var\n",
      "c:\\Users\\acer\\Desktop\\HW\\CV\\asg1_ascii_art\\.venv\\Lib\\site-packages\\sklearn\\decomposition\\_pca.py:648: RuntimeWarning: invalid value encountered in divide\n",
      "  explained_variance_ratio_ = explained_variance_ / total_var\n"
     ]
    },
    {
     "name": "stdout",
     "output_type": "stream",
     "text": [
      "./monkeyking_L1_1pca_3_arial.ttf.txt created successfully!!\n",
      "Image saved at ./monkeyking_L1_1pca_3_arial.ttf_text_arial.ttf.png\n",
      "Real Shape of Img: (1041, 736)\n",
      "Scaled Ratio of the IMG: 9\n",
      "Dimension of New IMG: 115 x 81\n",
      "Patch size Dimension: 9 X 9\n",
      " !\"#$%&'()*+,-./0123456789:;<=>?@ABCDEFGHIJKLMNOPQRSTUVWXYZ[\\]^_`abcdefghijklmnopqrstuvwxyz{|}¡¢£¤¥¦§¨©ª«¬­®¯°±²³´µ¶·¸¹º»¼½¾¿ÀÁÂÃÄÅÆÇÈÉÊËÌÍÎÏÐÑÒÓÔÕÖ×ØÙÚÛÜÝÞßàáâãäåæçèéêëìíîïðñòóôõö÷øùúûüýþÿĀāĂăĄąĆćĈĉĊċČčĎďĐđĒēĔĕĖėĘęĚěĜĝĞğĠġĢģĤĥĦħĨĩĪīĬĭĮįİıĲĳĴĵĶķĸĹĺĻļĽľĿŀŁł\n"
     ]
    },
    {
     "name": "stderr",
     "output_type": "stream",
     "text": [
      "c:\\Users\\acer\\Desktop\\HW\\CV\\asg1_ascii_art\\.venv\\Lib\\site-packages\\sklearn\\decomposition\\_pca.py:648: RuntimeWarning: invalid value encountered in divide\n",
      "  explained_variance_ratio_ = explained_variance_ / total_var\n",
      "c:\\Users\\acer\\Desktop\\HW\\CV\\asg1_ascii_art\\.venv\\Lib\\site-packages\\sklearn\\decomposition\\_pca.py:648: RuntimeWarning: invalid value encountered in divide\n",
      "  explained_variance_ratio_ = explained_variance_ / total_var\n",
      "c:\\Users\\acer\\Desktop\\HW\\CV\\asg1_ascii_art\\.venv\\Lib\\site-packages\\sklearn\\decomposition\\_pca.py:648: RuntimeWarning: invalid value encountered in divide\n",
      "  explained_variance_ratio_ = explained_variance_ / total_var\n",
      "c:\\Users\\acer\\Desktop\\HW\\CV\\asg1_ascii_art\\.venv\\Lib\\site-packages\\sklearn\\decomposition\\_pca.py:648: RuntimeWarning: invalid value encountered in divide\n",
      "  explained_variance_ratio_ = explained_variance_ / total_var\n",
      "c:\\Users\\acer\\Desktop\\HW\\CV\\asg1_ascii_art\\.venv\\Lib\\site-packages\\sklearn\\decomposition\\_pca.py:648: RuntimeWarning: invalid value encountered in divide\n",
      "  explained_variance_ratio_ = explained_variance_ / total_var\n"
     ]
    },
    {
     "name": "stdout",
     "output_type": "stream",
     "text": [
      "PCA_n: 5, font_path: path/to/arial.ttf, style: arial.ttf, output_name: ./monkeyking\n",
      "name= ./monkeyking_L1_1pca_5_arial.ttf.txt\n"
     ]
    },
    {
     "name": "stderr",
     "output_type": "stream",
     "text": [
      "c:\\Users\\acer\\Desktop\\HW\\CV\\asg1_ascii_art\\.venv\\Lib\\site-packages\\sklearn\\decomposition\\_pca.py:648: RuntimeWarning: invalid value encountered in divide\n",
      "  explained_variance_ratio_ = explained_variance_ / total_var\n",
      "c:\\Users\\acer\\Desktop\\HW\\CV\\asg1_ascii_art\\.venv\\Lib\\site-packages\\sklearn\\decomposition\\_pca.py:648: RuntimeWarning: invalid value encountered in divide\n",
      "  explained_variance_ratio_ = explained_variance_ / total_var\n",
      "c:\\Users\\acer\\Desktop\\HW\\CV\\asg1_ascii_art\\.venv\\Lib\\site-packages\\sklearn\\decomposition\\_pca.py:648: RuntimeWarning: invalid value encountered in divide\n",
      "  explained_variance_ratio_ = explained_variance_ / total_var\n",
      "c:\\Users\\acer\\Desktop\\HW\\CV\\asg1_ascii_art\\.venv\\Lib\\site-packages\\sklearn\\decomposition\\_pca.py:648: RuntimeWarning: invalid value encountered in divide\n",
      "  explained_variance_ratio_ = explained_variance_ / total_var\n",
      "c:\\Users\\acer\\Desktop\\HW\\CV\\asg1_ascii_art\\.venv\\Lib\\site-packages\\sklearn\\decomposition\\_pca.py:648: RuntimeWarning: invalid value encountered in divide\n",
      "  explained_variance_ratio_ = explained_variance_ / total_var\n",
      "c:\\Users\\acer\\Desktop\\HW\\CV\\asg1_ascii_art\\.venv\\Lib\\site-packages\\sklearn\\decomposition\\_pca.py:648: RuntimeWarning: invalid value encountered in divide\n",
      "  explained_variance_ratio_ = explained_variance_ / total_var\n",
      "c:\\Users\\acer\\Desktop\\HW\\CV\\asg1_ascii_art\\.venv\\Lib\\site-packages\\sklearn\\decomposition\\_pca.py:648: RuntimeWarning: invalid value encountered in divide\n",
      "  explained_variance_ratio_ = explained_variance_ / total_var\n",
      "c:\\Users\\acer\\Desktop\\HW\\CV\\asg1_ascii_art\\.venv\\Lib\\site-packages\\sklearn\\decomposition\\_pca.py:648: RuntimeWarning: invalid value encountered in divide\n",
      "  explained_variance_ratio_ = explained_variance_ / total_var\n",
      "c:\\Users\\acer\\Desktop\\HW\\CV\\asg1_ascii_art\\.venv\\Lib\\site-packages\\sklearn\\decomposition\\_pca.py:648: RuntimeWarning: invalid value encountered in divide\n",
      "  explained_variance_ratio_ = explained_variance_ / total_var\n",
      "c:\\Users\\acer\\Desktop\\HW\\CV\\asg1_ascii_art\\.venv\\Lib\\site-packages\\sklearn\\decomposition\\_pca.py:648: RuntimeWarning: invalid value encountered in divide\n",
      "  explained_variance_ratio_ = explained_variance_ / total_var\n",
      "c:\\Users\\acer\\Desktop\\HW\\CV\\asg1_ascii_art\\.venv\\Lib\\site-packages\\sklearn\\decomposition\\_pca.py:648: RuntimeWarning: invalid value encountered in divide\n",
      "  explained_variance_ratio_ = explained_variance_ / total_var\n",
      "c:\\Users\\acer\\Desktop\\HW\\CV\\asg1_ascii_art\\.venv\\Lib\\site-packages\\sklearn\\decomposition\\_pca.py:648: RuntimeWarning: invalid value encountered in divide\n",
      "  explained_variance_ratio_ = explained_variance_ / total_var\n"
     ]
    },
    {
     "name": "stdout",
     "output_type": "stream",
     "text": [
      "./monkeyking_L1_1pca_5_arial.ttf.txt created successfully!!\n",
      "Image saved at ./monkeyking_L1_1pca_5_arial.ttf_text_arial.ttf.png\n",
      "Real Shape of Img: (1041, 736)\n",
      "Scaled Ratio of the IMG: 9\n",
      "Dimension of New IMG: 115 x 81\n",
      "Patch size Dimension: 9 X 9\n",
      " !\"#$%&'()*+,-./0123456789:;<=>?@ABCDEFGHIJKLMNOPQRSTUVWXYZ[\\]^_`abcdefghijklmnopqrstuvwxyz{|}¡¢£¤¥¦§¨©ª«¬­®¯°±²³´µ¶·¸¹º»¼½¾¿ÀÁÂÃÄÅÆÇÈÉÊËÌÍÎÏÐÑÒÓÔÕÖ×ØÙÚÛÜÝÞßàáâãäåæçèéêëìíîïðñòóôõö÷øùúûüýþÿĀāĂăĄąĆćĈĉĊċČčĎďĐđĒēĔĕĖėĘęĚěĜĝĞğĠġĢģĤĥĦħĨĩĪīĬĭĮįİıĲĳĴĵĶķĸĹĺĻļĽľĿŀŁł\n"
     ]
    },
    {
     "name": "stderr",
     "output_type": "stream",
     "text": [
      "c:\\Users\\acer\\Desktop\\HW\\CV\\asg1_ascii_art\\.venv\\Lib\\site-packages\\sklearn\\decomposition\\_pca.py:648: RuntimeWarning: invalid value encountered in divide\n",
      "  explained_variance_ratio_ = explained_variance_ / total_var\n",
      "c:\\Users\\acer\\Desktop\\HW\\CV\\asg1_ascii_art\\.venv\\Lib\\site-packages\\sklearn\\decomposition\\_pca.py:648: RuntimeWarning: invalid value encountered in divide\n",
      "  explained_variance_ratio_ = explained_variance_ / total_var\n",
      "c:\\Users\\acer\\Desktop\\HW\\CV\\asg1_ascii_art\\.venv\\Lib\\site-packages\\sklearn\\decomposition\\_pca.py:648: RuntimeWarning: invalid value encountered in divide\n",
      "  explained_variance_ratio_ = explained_variance_ / total_var\n",
      "c:\\Users\\acer\\Desktop\\HW\\CV\\asg1_ascii_art\\.venv\\Lib\\site-packages\\sklearn\\decomposition\\_pca.py:648: RuntimeWarning: invalid value encountered in divide\n",
      "  explained_variance_ratio_ = explained_variance_ / total_var\n",
      "c:\\Users\\acer\\Desktop\\HW\\CV\\asg1_ascii_art\\.venv\\Lib\\site-packages\\sklearn\\decomposition\\_pca.py:648: RuntimeWarning: invalid value encountered in divide\n",
      "  explained_variance_ratio_ = explained_variance_ / total_var\n"
     ]
    },
    {
     "name": "stdout",
     "output_type": "stream",
     "text": [
      "PCA_n: 7, font_path: path/to/arial.ttf, style: arial.ttf, output_name: ./monkeyking\n",
      "name= ./monkeyking_L1_1pca_7_arial.ttf.txt\n"
     ]
    },
    {
     "name": "stderr",
     "output_type": "stream",
     "text": [
      "c:\\Users\\acer\\Desktop\\HW\\CV\\asg1_ascii_art\\.venv\\Lib\\site-packages\\sklearn\\decomposition\\_pca.py:648: RuntimeWarning: invalid value encountered in divide\n",
      "  explained_variance_ratio_ = explained_variance_ / total_var\n",
      "c:\\Users\\acer\\Desktop\\HW\\CV\\asg1_ascii_art\\.venv\\Lib\\site-packages\\sklearn\\decomposition\\_pca.py:648: RuntimeWarning: invalid value encountered in divide\n",
      "  explained_variance_ratio_ = explained_variance_ / total_var\n",
      "c:\\Users\\acer\\Desktop\\HW\\CV\\asg1_ascii_art\\.venv\\Lib\\site-packages\\sklearn\\decomposition\\_pca.py:648: RuntimeWarning: invalid value encountered in divide\n",
      "  explained_variance_ratio_ = explained_variance_ / total_var\n",
      "c:\\Users\\acer\\Desktop\\HW\\CV\\asg1_ascii_art\\.venv\\Lib\\site-packages\\sklearn\\decomposition\\_pca.py:648: RuntimeWarning: invalid value encountered in divide\n",
      "  explained_variance_ratio_ = explained_variance_ / total_var\n",
      "c:\\Users\\acer\\Desktop\\HW\\CV\\asg1_ascii_art\\.venv\\Lib\\site-packages\\sklearn\\decomposition\\_pca.py:648: RuntimeWarning: invalid value encountered in divide\n",
      "  explained_variance_ratio_ = explained_variance_ / total_var\n",
      "c:\\Users\\acer\\Desktop\\HW\\CV\\asg1_ascii_art\\.venv\\Lib\\site-packages\\sklearn\\decomposition\\_pca.py:648: RuntimeWarning: invalid value encountered in divide\n",
      "  explained_variance_ratio_ = explained_variance_ / total_var\n",
      "c:\\Users\\acer\\Desktop\\HW\\CV\\asg1_ascii_art\\.venv\\Lib\\site-packages\\sklearn\\decomposition\\_pca.py:648: RuntimeWarning: invalid value encountered in divide\n",
      "  explained_variance_ratio_ = explained_variance_ / total_var\n",
      "c:\\Users\\acer\\Desktop\\HW\\CV\\asg1_ascii_art\\.venv\\Lib\\site-packages\\sklearn\\decomposition\\_pca.py:648: RuntimeWarning: invalid value encountered in divide\n",
      "  explained_variance_ratio_ = explained_variance_ / total_var\n",
      "c:\\Users\\acer\\Desktop\\HW\\CV\\asg1_ascii_art\\.venv\\Lib\\site-packages\\sklearn\\decomposition\\_pca.py:648: RuntimeWarning: invalid value encountered in divide\n",
      "  explained_variance_ratio_ = explained_variance_ / total_var\n",
      "c:\\Users\\acer\\Desktop\\HW\\CV\\asg1_ascii_art\\.venv\\Lib\\site-packages\\sklearn\\decomposition\\_pca.py:648: RuntimeWarning: invalid value encountered in divide\n",
      "  explained_variance_ratio_ = explained_variance_ / total_var\n",
      "c:\\Users\\acer\\Desktop\\HW\\CV\\asg1_ascii_art\\.venv\\Lib\\site-packages\\sklearn\\decomposition\\_pca.py:648: RuntimeWarning: invalid value encountered in divide\n",
      "  explained_variance_ratio_ = explained_variance_ / total_var\n",
      "c:\\Users\\acer\\Desktop\\HW\\CV\\asg1_ascii_art\\.venv\\Lib\\site-packages\\sklearn\\decomposition\\_pca.py:648: RuntimeWarning: invalid value encountered in divide\n",
      "  explained_variance_ratio_ = explained_variance_ / total_var\n"
     ]
    },
    {
     "name": "stdout",
     "output_type": "stream",
     "text": [
      "./monkeyking_L1_1pca_7_arial.ttf.txt created successfully!!\n",
      "Image saved at ./monkeyking_L1_1pca_7_arial.ttf_text_arial.ttf.png\n"
     ]
    }
   ],
   "source": [
    "for i in [3, 5, 7]:\n",
    "    obj2.data_prep(path, arial, 80, i)\n",
    "    obj2.img2ascii_file()\n",
    "    obj2.text_to_image(font_path = arial)"
   ]
  },
  {
   "cell_type": "code",
   "execution_count": 13,
   "metadata": {},
   "outputs": [
    {
     "name": "stdout",
     "output_type": "stream",
     "text": [
      "Real Shape of Img: (1041, 736)\n",
      "Scaled Ratio of the IMG: 9\n",
      "Dimension of New IMG: 115 x 81\n",
      "Patch size Dimension: 9 X 9\n",
      " !\"#$%&'()*+,-./0123456789:;<=>?@ABCDEFGHIJKLMNOPQRSTUVWXYZ[\\]^_`abcdefghijklmnopqrstuvwxyz{|}¡¢£¤¥¦§¨©ª«¬­®¯°±²³´µ¶·¸¹º»¼½¾¿ÀÁÂÃÄÅÆÇÈÉÊËÌÍÎÏÐÑÒÓÔÕÖ×ØÙÚÛÜÝÞßàáâãäåæçèéêëìíîïðñòóôõö÷øùúûüýþÿĀāĂăĄąĆćĈĉĊċČčĎďĐđĒēĔĕĖėĘęĚěĜĝĞğĠġĢģĤĥĦħĨĩĪīĬĭĮįİıĲĳĴĵĶķĸĹĺĻļĽľĿŀŁł\n"
     ]
    },
    {
     "name": "stderr",
     "output_type": "stream",
     "text": [
      "c:\\Users\\acer\\Desktop\\HW\\CV\\asg1_ascii_art\\.venv\\Lib\\site-packages\\sklearn\\decomposition\\_pca.py:648: RuntimeWarning: invalid value encountered in divide\n",
      "  explained_variance_ratio_ = explained_variance_ / total_var\n",
      "c:\\Users\\acer\\Desktop\\HW\\CV\\asg1_ascii_art\\.venv\\Lib\\site-packages\\sklearn\\decomposition\\_pca.py:648: RuntimeWarning: invalid value encountered in divide\n",
      "  explained_variance_ratio_ = explained_variance_ / total_var\n",
      "c:\\Users\\acer\\Desktop\\HW\\CV\\asg1_ascii_art\\.venv\\Lib\\site-packages\\sklearn\\decomposition\\_pca.py:648: RuntimeWarning: invalid value encountered in divide\n",
      "  explained_variance_ratio_ = explained_variance_ / total_var\n",
      "c:\\Users\\acer\\Desktop\\HW\\CV\\asg1_ascii_art\\.venv\\Lib\\site-packages\\sklearn\\decomposition\\_pca.py:648: RuntimeWarning: invalid value encountered in divide\n",
      "  explained_variance_ratio_ = explained_variance_ / total_var\n",
      "c:\\Users\\acer\\Desktop\\HW\\CV\\asg1_ascii_art\\.venv\\Lib\\site-packages\\sklearn\\decomposition\\_pca.py:648: RuntimeWarning: invalid value encountered in divide\n",
      "  explained_variance_ratio_ = explained_variance_ / total_var\n"
     ]
    },
    {
     "name": "stdout",
     "output_type": "stream",
     "text": [
      "PCA_n: 3, font_path: path/to/times.ttf, style: times.ttf, output_name: ./monkeyking\n",
      "name= ./monkeyking_pca_3_times.ttf.txt\n"
     ]
    },
    {
     "name": "stderr",
     "output_type": "stream",
     "text": [
      "c:\\Users\\acer\\Desktop\\HW\\CV\\asg1_ascii_art\\.venv\\Lib\\site-packages\\sklearn\\decomposition\\_pca.py:648: RuntimeWarning: invalid value encountered in divide\n",
      "  explained_variance_ratio_ = explained_variance_ / total_var\n",
      "c:\\Users\\acer\\Desktop\\HW\\CV\\asg1_ascii_art\\.venv\\Lib\\site-packages\\sklearn\\decomposition\\_pca.py:648: RuntimeWarning: invalid value encountered in divide\n",
      "  explained_variance_ratio_ = explained_variance_ / total_var\n",
      "c:\\Users\\acer\\Desktop\\HW\\CV\\asg1_ascii_art\\.venv\\Lib\\site-packages\\sklearn\\decomposition\\_pca.py:648: RuntimeWarning: invalid value encountered in divide\n",
      "  explained_variance_ratio_ = explained_variance_ / total_var\n",
      "c:\\Users\\acer\\Desktop\\HW\\CV\\asg1_ascii_art\\.venv\\Lib\\site-packages\\sklearn\\decomposition\\_pca.py:648: RuntimeWarning: invalid value encountered in divide\n",
      "  explained_variance_ratio_ = explained_variance_ / total_var\n",
      "c:\\Users\\acer\\Desktop\\HW\\CV\\asg1_ascii_art\\.venv\\Lib\\site-packages\\sklearn\\decomposition\\_pca.py:648: RuntimeWarning: invalid value encountered in divide\n",
      "  explained_variance_ratio_ = explained_variance_ / total_var\n",
      "c:\\Users\\acer\\Desktop\\HW\\CV\\asg1_ascii_art\\.venv\\Lib\\site-packages\\sklearn\\decomposition\\_pca.py:648: RuntimeWarning: invalid value encountered in divide\n",
      "  explained_variance_ratio_ = explained_variance_ / total_var\n",
      "c:\\Users\\acer\\Desktop\\HW\\CV\\asg1_ascii_art\\.venv\\Lib\\site-packages\\sklearn\\decomposition\\_pca.py:648: RuntimeWarning: invalid value encountered in divide\n",
      "  explained_variance_ratio_ = explained_variance_ / total_var\n",
      "c:\\Users\\acer\\Desktop\\HW\\CV\\asg1_ascii_art\\.venv\\Lib\\site-packages\\sklearn\\decomposition\\_pca.py:648: RuntimeWarning: invalid value encountered in divide\n",
      "  explained_variance_ratio_ = explained_variance_ / total_var\n",
      "c:\\Users\\acer\\Desktop\\HW\\CV\\asg1_ascii_art\\.venv\\Lib\\site-packages\\sklearn\\decomposition\\_pca.py:648: RuntimeWarning: invalid value encountered in divide\n",
      "  explained_variance_ratio_ = explained_variance_ / total_var\n",
      "c:\\Users\\acer\\Desktop\\HW\\CV\\asg1_ascii_art\\.venv\\Lib\\site-packages\\sklearn\\decomposition\\_pca.py:648: RuntimeWarning: invalid value encountered in divide\n",
      "  explained_variance_ratio_ = explained_variance_ / total_var\n",
      "c:\\Users\\acer\\Desktop\\HW\\CV\\asg1_ascii_art\\.venv\\Lib\\site-packages\\sklearn\\decomposition\\_pca.py:648: RuntimeWarning: invalid value encountered in divide\n",
      "  explained_variance_ratio_ = explained_variance_ / total_var\n",
      "c:\\Users\\acer\\Desktop\\HW\\CV\\asg1_ascii_art\\.venv\\Lib\\site-packages\\sklearn\\decomposition\\_pca.py:648: RuntimeWarning: invalid value encountered in divide\n",
      "  explained_variance_ratio_ = explained_variance_ / total_var\n"
     ]
    },
    {
     "name": "stdout",
     "output_type": "stream",
     "text": [
      "./monkeyking_pca_3_times.ttf.txt created successfully!!\n",
      "Image saved at ./monkeyking_pca_3_times.ttf_text_times.ttf.png\n",
      "Real Shape of Img: (1041, 736)\n",
      "Scaled Ratio of the IMG: 9\n",
      "Dimension of New IMG: 115 x 81\n",
      "Patch size Dimension: 9 X 9\n",
      " !\"#$%&'()*+,-./0123456789:;<=>?@ABCDEFGHIJKLMNOPQRSTUVWXYZ[\\]^_`abcdefghijklmnopqrstuvwxyz{|}¡¢£¤¥¦§¨©ª«¬­®¯°±²³´µ¶·¸¹º»¼½¾¿ÀÁÂÃÄÅÆÇÈÉÊËÌÍÎÏÐÑÒÓÔÕÖ×ØÙÚÛÜÝÞßàáâãäåæçèéêëìíîïðñòóôõö÷øùúûüýþÿĀāĂăĄąĆćĈĉĊċČčĎďĐđĒēĔĕĖėĘęĚěĜĝĞğĠġĢģĤĥĦħĨĩĪīĬĭĮįİıĲĳĴĵĶķĸĹĺĻļĽľĿŀŁł\n"
     ]
    },
    {
     "name": "stderr",
     "output_type": "stream",
     "text": [
      "c:\\Users\\acer\\Desktop\\HW\\CV\\asg1_ascii_art\\.venv\\Lib\\site-packages\\sklearn\\decomposition\\_pca.py:648: RuntimeWarning: invalid value encountered in divide\n",
      "  explained_variance_ratio_ = explained_variance_ / total_var\n",
      "c:\\Users\\acer\\Desktop\\HW\\CV\\asg1_ascii_art\\.venv\\Lib\\site-packages\\sklearn\\decomposition\\_pca.py:648: RuntimeWarning: invalid value encountered in divide\n",
      "  explained_variance_ratio_ = explained_variance_ / total_var\n",
      "c:\\Users\\acer\\Desktop\\HW\\CV\\asg1_ascii_art\\.venv\\Lib\\site-packages\\sklearn\\decomposition\\_pca.py:648: RuntimeWarning: invalid value encountered in divide\n",
      "  explained_variance_ratio_ = explained_variance_ / total_var\n",
      "c:\\Users\\acer\\Desktop\\HW\\CV\\asg1_ascii_art\\.venv\\Lib\\site-packages\\sklearn\\decomposition\\_pca.py:648: RuntimeWarning: invalid value encountered in divide\n",
      "  explained_variance_ratio_ = explained_variance_ / total_var\n",
      "c:\\Users\\acer\\Desktop\\HW\\CV\\asg1_ascii_art\\.venv\\Lib\\site-packages\\sklearn\\decomposition\\_pca.py:648: RuntimeWarning: invalid value encountered in divide\n",
      "  explained_variance_ratio_ = explained_variance_ / total_var\n"
     ]
    },
    {
     "name": "stdout",
     "output_type": "stream",
     "text": [
      "PCA_n: 5, font_path: path/to/times.ttf, style: times.ttf, output_name: ./monkeyking\n",
      "name= ./monkeyking_pca_5_times.ttf.txt\n"
     ]
    },
    {
     "name": "stderr",
     "output_type": "stream",
     "text": [
      "c:\\Users\\acer\\Desktop\\HW\\CV\\asg1_ascii_art\\.venv\\Lib\\site-packages\\sklearn\\decomposition\\_pca.py:648: RuntimeWarning: invalid value encountered in divide\n",
      "  explained_variance_ratio_ = explained_variance_ / total_var\n",
      "c:\\Users\\acer\\Desktop\\HW\\CV\\asg1_ascii_art\\.venv\\Lib\\site-packages\\sklearn\\decomposition\\_pca.py:648: RuntimeWarning: invalid value encountered in divide\n",
      "  explained_variance_ratio_ = explained_variance_ / total_var\n",
      "c:\\Users\\acer\\Desktop\\HW\\CV\\asg1_ascii_art\\.venv\\Lib\\site-packages\\sklearn\\decomposition\\_pca.py:648: RuntimeWarning: invalid value encountered in divide\n",
      "  explained_variance_ratio_ = explained_variance_ / total_var\n",
      "c:\\Users\\acer\\Desktop\\HW\\CV\\asg1_ascii_art\\.venv\\Lib\\site-packages\\sklearn\\decomposition\\_pca.py:648: RuntimeWarning: invalid value encountered in divide\n",
      "  explained_variance_ratio_ = explained_variance_ / total_var\n",
      "c:\\Users\\acer\\Desktop\\HW\\CV\\asg1_ascii_art\\.venv\\Lib\\site-packages\\sklearn\\decomposition\\_pca.py:648: RuntimeWarning: invalid value encountered in divide\n",
      "  explained_variance_ratio_ = explained_variance_ / total_var\n",
      "c:\\Users\\acer\\Desktop\\HW\\CV\\asg1_ascii_art\\.venv\\Lib\\site-packages\\sklearn\\decomposition\\_pca.py:648: RuntimeWarning: invalid value encountered in divide\n",
      "  explained_variance_ratio_ = explained_variance_ / total_var\n",
      "c:\\Users\\acer\\Desktop\\HW\\CV\\asg1_ascii_art\\.venv\\Lib\\site-packages\\sklearn\\decomposition\\_pca.py:648: RuntimeWarning: invalid value encountered in divide\n",
      "  explained_variance_ratio_ = explained_variance_ / total_var\n",
      "c:\\Users\\acer\\Desktop\\HW\\CV\\asg1_ascii_art\\.venv\\Lib\\site-packages\\sklearn\\decomposition\\_pca.py:648: RuntimeWarning: invalid value encountered in divide\n",
      "  explained_variance_ratio_ = explained_variance_ / total_var\n",
      "c:\\Users\\acer\\Desktop\\HW\\CV\\asg1_ascii_art\\.venv\\Lib\\site-packages\\sklearn\\decomposition\\_pca.py:648: RuntimeWarning: invalid value encountered in divide\n",
      "  explained_variance_ratio_ = explained_variance_ / total_var\n",
      "c:\\Users\\acer\\Desktop\\HW\\CV\\asg1_ascii_art\\.venv\\Lib\\site-packages\\sklearn\\decomposition\\_pca.py:648: RuntimeWarning: invalid value encountered in divide\n",
      "  explained_variance_ratio_ = explained_variance_ / total_var\n",
      "c:\\Users\\acer\\Desktop\\HW\\CV\\asg1_ascii_art\\.venv\\Lib\\site-packages\\sklearn\\decomposition\\_pca.py:648: RuntimeWarning: invalid value encountered in divide\n",
      "  explained_variance_ratio_ = explained_variance_ / total_var\n",
      "c:\\Users\\acer\\Desktop\\HW\\CV\\asg1_ascii_art\\.venv\\Lib\\site-packages\\sklearn\\decomposition\\_pca.py:648: RuntimeWarning: invalid value encountered in divide\n",
      "  explained_variance_ratio_ = explained_variance_ / total_var\n"
     ]
    },
    {
     "name": "stdout",
     "output_type": "stream",
     "text": [
      "./monkeyking_pca_5_times.ttf.txt created successfully!!\n",
      "Image saved at ./monkeyking_pca_5_times.ttf_text_times.ttf.png\n",
      "Real Shape of Img: (1041, 736)\n",
      "Scaled Ratio of the IMG: 9\n",
      "Dimension of New IMG: 115 x 81\n",
      "Patch size Dimension: 9 X 9\n",
      " !\"#$%&'()*+,-./0123456789:;<=>?@ABCDEFGHIJKLMNOPQRSTUVWXYZ[\\]^_`abcdefghijklmnopqrstuvwxyz{|}¡¢£¤¥¦§¨©ª«¬­®¯°±²³´µ¶·¸¹º»¼½¾¿ÀÁÂÃÄÅÆÇÈÉÊËÌÍÎÏÐÑÒÓÔÕÖ×ØÙÚÛÜÝÞßàáâãäåæçèéêëìíîïðñòóôõö÷øùúûüýþÿĀāĂăĄąĆćĈĉĊċČčĎďĐđĒēĔĕĖėĘęĚěĜĝĞğĠġĢģĤĥĦħĨĩĪīĬĭĮįİıĲĳĴĵĶķĸĹĺĻļĽľĿŀŁł\n"
     ]
    },
    {
     "name": "stderr",
     "output_type": "stream",
     "text": [
      "c:\\Users\\acer\\Desktop\\HW\\CV\\asg1_ascii_art\\.venv\\Lib\\site-packages\\sklearn\\decomposition\\_pca.py:648: RuntimeWarning: invalid value encountered in divide\n",
      "  explained_variance_ratio_ = explained_variance_ / total_var\n",
      "c:\\Users\\acer\\Desktop\\HW\\CV\\asg1_ascii_art\\.venv\\Lib\\site-packages\\sklearn\\decomposition\\_pca.py:648: RuntimeWarning: invalid value encountered in divide\n",
      "  explained_variance_ratio_ = explained_variance_ / total_var\n",
      "c:\\Users\\acer\\Desktop\\HW\\CV\\asg1_ascii_art\\.venv\\Lib\\site-packages\\sklearn\\decomposition\\_pca.py:648: RuntimeWarning: invalid value encountered in divide\n",
      "  explained_variance_ratio_ = explained_variance_ / total_var\n",
      "c:\\Users\\acer\\Desktop\\HW\\CV\\asg1_ascii_art\\.venv\\Lib\\site-packages\\sklearn\\decomposition\\_pca.py:648: RuntimeWarning: invalid value encountered in divide\n",
      "  explained_variance_ratio_ = explained_variance_ / total_var\n",
      "c:\\Users\\acer\\Desktop\\HW\\CV\\asg1_ascii_art\\.venv\\Lib\\site-packages\\sklearn\\decomposition\\_pca.py:648: RuntimeWarning: invalid value encountered in divide\n",
      "  explained_variance_ratio_ = explained_variance_ / total_var\n"
     ]
    },
    {
     "name": "stdout",
     "output_type": "stream",
     "text": [
      "PCA_n: 7, font_path: path/to/times.ttf, style: times.ttf, output_name: ./monkeyking\n",
      "name= ./monkeyking_pca_7_times.ttf.txt\n"
     ]
    },
    {
     "name": "stderr",
     "output_type": "stream",
     "text": [
      "c:\\Users\\acer\\Desktop\\HW\\CV\\asg1_ascii_art\\.venv\\Lib\\site-packages\\sklearn\\decomposition\\_pca.py:648: RuntimeWarning: invalid value encountered in divide\n",
      "  explained_variance_ratio_ = explained_variance_ / total_var\n",
      "c:\\Users\\acer\\Desktop\\HW\\CV\\asg1_ascii_art\\.venv\\Lib\\site-packages\\sklearn\\decomposition\\_pca.py:648: RuntimeWarning: invalid value encountered in divide\n",
      "  explained_variance_ratio_ = explained_variance_ / total_var\n",
      "c:\\Users\\acer\\Desktop\\HW\\CV\\asg1_ascii_art\\.venv\\Lib\\site-packages\\sklearn\\decomposition\\_pca.py:648: RuntimeWarning: invalid value encountered in divide\n",
      "  explained_variance_ratio_ = explained_variance_ / total_var\n",
      "c:\\Users\\acer\\Desktop\\HW\\CV\\asg1_ascii_art\\.venv\\Lib\\site-packages\\sklearn\\decomposition\\_pca.py:648: RuntimeWarning: invalid value encountered in divide\n",
      "  explained_variance_ratio_ = explained_variance_ / total_var\n",
      "c:\\Users\\acer\\Desktop\\HW\\CV\\asg1_ascii_art\\.venv\\Lib\\site-packages\\sklearn\\decomposition\\_pca.py:648: RuntimeWarning: invalid value encountered in divide\n",
      "  explained_variance_ratio_ = explained_variance_ / total_var\n",
      "c:\\Users\\acer\\Desktop\\HW\\CV\\asg1_ascii_art\\.venv\\Lib\\site-packages\\sklearn\\decomposition\\_pca.py:648: RuntimeWarning: invalid value encountered in divide\n",
      "  explained_variance_ratio_ = explained_variance_ / total_var\n",
      "c:\\Users\\acer\\Desktop\\HW\\CV\\asg1_ascii_art\\.venv\\Lib\\site-packages\\sklearn\\decomposition\\_pca.py:648: RuntimeWarning: invalid value encountered in divide\n",
      "  explained_variance_ratio_ = explained_variance_ / total_var\n",
      "c:\\Users\\acer\\Desktop\\HW\\CV\\asg1_ascii_art\\.venv\\Lib\\site-packages\\sklearn\\decomposition\\_pca.py:648: RuntimeWarning: invalid value encountered in divide\n",
      "  explained_variance_ratio_ = explained_variance_ / total_var\n",
      "c:\\Users\\acer\\Desktop\\HW\\CV\\asg1_ascii_art\\.venv\\Lib\\site-packages\\sklearn\\decomposition\\_pca.py:648: RuntimeWarning: invalid value encountered in divide\n",
      "  explained_variance_ratio_ = explained_variance_ / total_var\n",
      "c:\\Users\\acer\\Desktop\\HW\\CV\\asg1_ascii_art\\.venv\\Lib\\site-packages\\sklearn\\decomposition\\_pca.py:648: RuntimeWarning: invalid value encountered in divide\n",
      "  explained_variance_ratio_ = explained_variance_ / total_var\n",
      "c:\\Users\\acer\\Desktop\\HW\\CV\\asg1_ascii_art\\.venv\\Lib\\site-packages\\sklearn\\decomposition\\_pca.py:648: RuntimeWarning: invalid value encountered in divide\n",
      "  explained_variance_ratio_ = explained_variance_ / total_var\n",
      "c:\\Users\\acer\\Desktop\\HW\\CV\\asg1_ascii_art\\.venv\\Lib\\site-packages\\sklearn\\decomposition\\_pca.py:648: RuntimeWarning: invalid value encountered in divide\n",
      "  explained_variance_ratio_ = explained_variance_ / total_var\n"
     ]
    },
    {
     "name": "stdout",
     "output_type": "stream",
     "text": [
      "./monkeyking_pca_7_times.ttf.txt created successfully!!\n",
      "Image saved at ./monkeyking_pca_7_times.ttf_text_times.ttf.png\n"
     ]
    }
   ],
   "source": [
    "for i in [3, 5, 7]:\n",
    "    obj1.data_prep(path, times_new_roman, 80, i)\n",
    "    obj1.img2ascii_file()\n",
    "    obj1.text_to_image(font_path = times_new_roman)"
   ]
  },
  {
   "cell_type": "code",
   "execution_count": 4,
   "metadata": {},
   "outputs": [
    {
     "ename": "NameError",
     "evalue": "name 'courier' is not defined",
     "output_type": "error",
     "traceback": [
      "\u001b[1;31m---------------------------------------------------------------------------\u001b[0m",
      "\u001b[1;31mNameError\u001b[0m                                 Traceback (most recent call last)",
      "Cell \u001b[1;32mIn[4], line 1\u001b[0m\n\u001b[1;32m----> 1\u001b[0m obj2\u001b[38;5;241m.\u001b[39mdata_prep(img_path, \u001b[43mcourier\u001b[49m, \u001b[38;5;241m160\u001b[39m, \u001b[38;5;241m5\u001b[39m)\n",
      "\u001b[1;31mNameError\u001b[0m: name 'courier' is not defined"
     ]
    }
   ],
   "source": [
    "obj2.data_prep(img_path, courier, 160, 5)"
   ]
  },
  {
   "cell_type": "code",
   "execution_count": 5,
   "metadata": {},
   "outputs": [
    {
     "ename": "AttributeError",
     "evalue": "'ascii_by_pca_L1' object has no attribute 'output_name'",
     "output_type": "error",
     "traceback": [
      "\u001b[1;31m---------------------------------------------------------------------------\u001b[0m",
      "\u001b[1;31mAttributeError\u001b[0m                            Traceback (most recent call last)",
      "Cell \u001b[1;32mIn[5], line 1\u001b[0m\n\u001b[1;32m----> 1\u001b[0m \u001b[43mobj2\u001b[49m\u001b[38;5;241;43m.\u001b[39;49m\u001b[43mimg2ascii_file\u001b[49m\u001b[43m(\u001b[49m\u001b[43m)\u001b[49m\n",
      "File \u001b[1;32mc:\\Users\\acer\\Desktop\\HW\\CV\\asg1_ascii_art\\asg1_2_check\\asg1_2_L1.py:155\u001b[0m, in \u001b[0;36mascii_by_pca_L1.img2ascii_file\u001b[1;34m(self)\u001b[0m\n\u001b[0;32m    154\u001b[0m \u001b[38;5;28;01mdef\u001b[39;00m\u001b[38;5;250m \u001b[39m\u001b[38;5;21mimg2ascii_file\u001b[39m(\u001b[38;5;28mself\u001b[39m):\n\u001b[1;32m--> 155\u001b[0m     file_out_path \u001b[38;5;241m=\u001b[39m \u001b[38;5;124mf\u001b[39m\u001b[38;5;124m'\u001b[39m\u001b[38;5;132;01m{\u001b[39;00m\u001b[38;5;28;43mself\u001b[39;49m\u001b[38;5;241;43m.\u001b[39;49m\u001b[43moutput_name\u001b[49m\u001b[38;5;132;01m}\u001b[39;00m\u001b[38;5;124m_L1_1pca_\u001b[39m\u001b[38;5;132;01m{\u001b[39;00m\u001b[38;5;28mself\u001b[39m\u001b[38;5;241m.\u001b[39mpca_components\u001b[38;5;132;01m}\u001b[39;00m\u001b[38;5;124m_\u001b[39m\u001b[38;5;132;01m{\u001b[39;00m\u001b[38;5;28mself\u001b[39m\u001b[38;5;241m.\u001b[39mstyle\u001b[38;5;132;01m}\u001b[39;00m\u001b[38;5;124m.txt\u001b[39m\u001b[38;5;124m'\u001b[39m\n\u001b[0;32m    156\u001b[0m     \u001b[38;5;28mprint\u001b[39m(\u001b[38;5;124mf\u001b[39m\u001b[38;5;124m\"\u001b[39m\u001b[38;5;124mname= \u001b[39m\u001b[38;5;132;01m{\u001b[39;00mfile_out_path\u001b[38;5;132;01m}\u001b[39;00m\u001b[38;5;124m\"\u001b[39m)\n\u001b[0;32m    157\u001b[0m     \u001b[38;5;28mself\u001b[39m\u001b[38;5;241m.\u001b[39moutput_file \u001b[38;5;241m=\u001b[39m file_out_path\n",
      "\u001b[1;31mAttributeError\u001b[0m: 'ascii_by_pca_L1' object has no attribute 'output_name'"
     ]
    }
   ],
   "source": [
    "obj2.img2ascii_file()"
   ]
  },
  {
   "cell_type": "code",
   "execution_count": 29,
   "metadata": {},
   "outputs": [
    {
     "name": "stdout",
     "output_type": "stream",
     "text": [
      "Image saved at ./monkeyking_L1_pca_5_cour.ttf_text_cour.ttf.png\n"
     ]
    }
   ],
   "source": [
    "obj2.text_to_image(font_path = courier)"
   ]
  },
  {
   "cell_type": "code",
   "execution_count": null,
   "metadata": {},
   "outputs": [],
   "source": []
  }
 ],
 "metadata": {
  "kernelspec": {
   "display_name": ".venv",
   "language": "python",
   "name": "python3"
  },
  "language_info": {
   "codemirror_mode": {
    "name": "ipython",
    "version": 3
   },
   "file_extension": ".py",
   "mimetype": "text/x-python",
   "name": "python",
   "nbconvert_exporter": "python",
   "pygments_lexer": "ipython3",
   "version": "3.13.1"
  }
 },
 "nbformat": 4,
 "nbformat_minor": 2
}
