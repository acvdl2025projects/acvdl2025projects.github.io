{
 "cells": [
  {
   "cell_type": "code",
   "execution_count": 62,
   "metadata": {},
   "outputs": [],
   "source": [
    "import cv2 as cv\n",
    "import numpy as np\n",
    "import matplotlib.pyplot as plt\n",
    "from sklearn.decomposition import PCA\n",
    "from PIL import Image, ImageDraw, ImageFont"
   ]
  },
  {
   "cell_type": "code",
   "execution_count": 63,
   "metadata": {},
   "outputs": [
    {
     "name": "stdout",
     "output_type": "stream",
     "text": [
      "Real Shape of Img: (1041, 736)\n",
      "Scaled Ratio of the IMG: 4\n"
     ]
    }
   ],
   "source": [
    "img_path = f\"monkeyking.jpg\"\n",
    "img = cv.imread(img_path,cv.IMREAD_GRAYSCALE)\n",
    "print(f\"Real Shape of Img: {img.shape}\")\n",
    "height, width = img.shape\n",
    "tile = width // 160\n",
    "print(f\"Scaled Ratio of the IMG: {tile}\")\n",
    "C = width // tile\n",
    "R = height // tile"
   ]
  },
  {
   "cell_type": "code",
   "execution_count": 64,
   "metadata": {},
   "outputs": [],
   "source": [
    "cell_width = width // C  \n",
    "cell_height = height // R"
   ]
  },
  {
   "cell_type": "code",
   "execution_count": 65,
   "metadata": {},
   "outputs": [],
   "source": [
    "def load_text(file_path):\n",
    "    with open(file_path, \"r\") as file:\n",
    "        return [line.rstrip(\"\\n\") for line in file]"
   ]
  },
  {
   "cell_type": "code",
   "execution_count": 66,
   "metadata": {},
   "outputs": [],
   "source": [
    "def text_to_image(text_lines, image_path, font_path=None, font_size=12):\n",
    "    # global cell_height, cell_width\n",
    "    # Create an empty white image\n",
    "    img = Image.new(\"RGB\", (width, height), \"black\")\n",
    "    draw = ImageDraw.Draw(img)\n",
    "\n",
    "    # Set the font to Courier\n",
    "    if font_path:\n",
    "        font = ImageFont.truetype(font_path, font_size)\n",
    "    else:\n",
    "        font = ImageFont.truetype(\"cour.ttf\", font_size)  # Use Courier by default\n",
    "\n",
    "    # Draw characters on the image\n",
    "    for i, line in enumerate(text_lines):\n",
    "        for j, char in enumerate(line):\n",
    "            x = j * cell_width\n",
    "            y = i * cell_height\n",
    "            draw.text((x, y), char, fill=\"white\", font=font)\n",
    "\n",
    "    # Save the image\n",
    "    img.save(image_path)\n",
    "    # print(f\"Image saved at {image_path}\")"
   ]
  },
  {
   "cell_type": "code",
   "execution_count": 67,
   "metadata": {},
   "outputs": [],
   "source": [
    "text = \"monkeyking_10_Level_160.txt\""
   ]
  },
  {
   "cell_type": "code",
   "execution_count": 68,
   "metadata": {},
   "outputs": [],
   "source": [
    "output = text.rsplit(\".\",1)[0] + \".png\"\n",
    "lines = load_text(text)\n",
    "font = \"path/to/arial.ttf\""
   ]
  },
  {
   "cell_type": "code",
   "execution_count": 69,
   "metadata": {},
   "outputs": [],
   "source": [
    "text_to_image(lines, output, font, tile)"
   ]
  },
  {
   "cell_type": "code",
   "execution_count": null,
   "metadata": {},
   "outputs": [],
   "source": []
  }
 ],
 "metadata": {
  "kernelspec": {
   "display_name": ".venv",
   "language": "python",
   "name": "python3"
  },
  "language_info": {
   "codemirror_mode": {
    "name": "ipython",
    "version": 3
   },
   "file_extension": ".py",
   "mimetype": "text/x-python",
   "name": "python",
   "nbconvert_exporter": "python",
   "pygments_lexer": "ipython3",
   "version": "3.13.1"
  }
 },
 "nbformat": 4,
 "nbformat_minor": 2
}
