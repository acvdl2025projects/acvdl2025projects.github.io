{
 "cells": [
  {
   "cell_type": "code",
   "execution_count": 1,
   "metadata": {},
   "outputs": [
    {
     "name": "stderr",
     "output_type": "stream",
     "text": [
      "d:\\acvdl2025projects.github.io\\asg1_ascii_art\\test\\asg1_3_color_v1.py:12: SyntaxWarning: invalid escape sequence '\\|'\n",
      "  self.grey70 = \"$@B%8&WM#*oahkbdpqwmZO0QLCJUYXzcvunxrjft/\\|()1{}[]?-_+~<>i!lI;:,\\\"^‘’. \"\n"
     ]
    }
   ],
   "source": [
    "from asg1_3_color_v1 import mp4_ascii"
   ]
  },
  {
   "cell_type": "code",
   "execution_count": 2,
   "metadata": {},
   "outputs": [],
   "source": [
    "obj1 = mp4_ascii(240)"
   ]
  },
  {
   "cell_type": "code",
   "execution_count": 3,
   "metadata": {},
   "outputs": [],
   "source": [
    "video_path = \"./bleach_lr.mp4\""
   ]
  },
  {
   "cell_type": "code",
   "execution_count": 4,
   "metadata": {},
   "outputs": [
    {
     "name": "stdout",
     "output_type": "stream",
     "text": [
      "Deleted existing file: ./bleach_lr.mp3\n",
      "Audio extracted successfully!\n"
     ]
    }
   ],
   "source": [
    "obj1.split_audio(video_path)"
   ]
  },
  {
   "cell_type": "code",
   "execution_count": 5,
   "metadata": {},
   "outputs": [
    {
     "name": "stdout",
     "output_type": "stream",
     "text": [
      "video_fps: 23.9759088223852\n"
     ]
    },
    {
     "name": "stderr",
     "output_type": "stream",
     "text": [
      "d:\\acvdl2025projects.github.io\\asg1_ascii_art\\test\\asg1_3_color_v1.py:12: SyntaxWarning: invalid escape sequence '\\|'\n",
      "  self.grey70 = \"$@B%8&WM#*oahkbdpqwmZO0QLCJUYXzcvunxrjft/\\|()1{}[]?-_+~<>i!lI;:,\\\"^‘’. \"\n"
     ]
    },
    {
     "ename": "KeyboardInterrupt",
     "evalue": "",
     "output_type": "error",
     "traceback": [
      "\u001b[1;31m---------------------------------------------------------------------------\u001b[0m",
      "\u001b[1;31mKeyboardInterrupt\u001b[0m                         Traceback (most recent call last)",
      "Cell \u001b[1;32mIn[5], line 1\u001b[0m\n\u001b[1;32m----> 1\u001b[0m \u001b[43mobj1\u001b[49m\u001b[38;5;241;43m.\u001b[39;49m\u001b[43mvid_frames\u001b[49m\u001b[43m(\u001b[49m\u001b[43mvideo_path\u001b[49m\u001b[43m)\u001b[49m\n",
      "File \u001b[1;32md:\\acvdl2025projects.github.io\\asg1_ascii_art\\test\\asg1_3_color_v1.py:62\u001b[0m, in \u001b[0;36mmp4_ascii.vid_frames\u001b[1;34m(self, video_path)\u001b[0m\n\u001b[0;32m     60\u001b[0m     \u001b[38;5;28;01mbreak\u001b[39;00m\n\u001b[0;32m     61\u001b[0m frame_filename \u001b[38;5;241m=\u001b[39m os\u001b[38;5;241m.\u001b[39mpath\u001b[38;5;241m.\u001b[39mjoin(frame_folder, \u001b[38;5;124mf\u001b[39m\u001b[38;5;124m\"\u001b[39m\u001b[38;5;124mframe_\u001b[39m\u001b[38;5;132;01m{\u001b[39;00mframe_count\u001b[38;5;132;01m:\u001b[39;00m\u001b[38;5;124m06d\u001b[39m\u001b[38;5;132;01m}\u001b[39;00m\u001b[38;5;124m.png\u001b[39m\u001b[38;5;124m\"\u001b[39m)\n\u001b[1;32m---> 62\u001b[0m \u001b[43mcv\u001b[49m\u001b[38;5;241;43m.\u001b[39;49m\u001b[43mimwrite\u001b[49m\u001b[43m(\u001b[49m\u001b[43mframe_filename\u001b[49m\u001b[43m,\u001b[49m\u001b[43m \u001b[49m\u001b[43mframe\u001b[49m\u001b[43m)\u001b[49m\n\u001b[0;32m     63\u001b[0m \u001b[38;5;66;03m# print(f\"Saved: {frame_filename}\")\u001b[39;00m\n\u001b[0;32m     64\u001b[0m frame_count \u001b[38;5;241m+\u001b[39m\u001b[38;5;241m=\u001b[39m \u001b[38;5;241m1\u001b[39m\n",
      "\u001b[1;31mKeyboardInterrupt\u001b[0m: "
     ]
    }
   ],
   "source": [
    "obj1.vid_frames(video_path)"
   ]
  },
  {
   "cell_type": "code",
   "execution_count": 6,
   "metadata": {},
   "outputs": [
    {
     "name": "stdout",
     "output_type": "stream",
     "text": [
      "Real Shape of Img: (1080, 1920)\n",
      "Scaled Ratio of the IMG: 8\n",
      "Dimension of New IMG: 135 x 240\n",
      "Patch size Dimension: 8 X 8\n"
     ]
    },
    {
     "data": {
      "image/png": "[encoded data removed]",
      "text/plain": [
       "<Figure size 1000x1000 with 1 Axes>"
      ]
     },
     "metadata": {},
     "output_type": "display_data"
    }
   ],
   "source": [
    "obj1.initialize()"
   ]
  },
  {
   "cell_type": "code",
   "execution_count": 7,
   "metadata": {},
   "outputs": [
    {
     "name": "stdout",
     "output_type": "stream",
     "text": [
      "Total frames: 3432\n"
     ]
    },
    {
     "ename": "KeyboardInterrupt",
     "evalue": "",
     "output_type": "error",
     "traceback": [
      "\u001b[1;31m---------------------------------------------------------------------------\u001b[0m",
      "\u001b[1;31mKeyboardInterrupt\u001b[0m                         Traceback (most recent call last)",
      "Cell \u001b[1;32mIn[7], line 1\u001b[0m\n\u001b[1;32m----> 1\u001b[0m \u001b[43mobj1\u001b[49m\u001b[38;5;241;43m.\u001b[39;49m\u001b[43mframe2ascii\u001b[49m\u001b[43m(\u001b[49m\u001b[43m)\u001b[49m\n",
      "File \u001b[1;32md:\\acvdl2025projects.github.io\\asg1_ascii_art\\test\\asg1_3_color_v1.py:213\u001b[0m, in \u001b[0;36mmp4_ascii.frame2ascii\u001b[1;34m(self)\u001b[0m\n\u001b[0;32m    211\u001b[0m text_lines \u001b[38;5;241m=\u001b[39m \u001b[38;5;28mself\u001b[39m\u001b[38;5;241m.\u001b[39mload_text(text_path)\n\u001b[0;32m    212\u001b[0m rgb_data \u001b[38;5;241m=\u001b[39m \u001b[38;5;28mself\u001b[39m\u001b[38;5;241m.\u001b[39mload_rgb_text(text_path)\n\u001b[1;32m--> 213\u001b[0m \u001b[38;5;28;43mself\u001b[39;49m\u001b[38;5;241;43m.\u001b[39;49m\u001b[43mtext_to_image\u001b[49m\u001b[43m(\u001b[49m\u001b[43mtext_lines\u001b[49m\u001b[43m,\u001b[49m\u001b[43m \u001b[49m\u001b[43mrgb_data\u001b[49m\u001b[43m,\u001b[49m\u001b[43m \u001b[49m\u001b[43moutput_image_path\u001b[49m\u001b[43m,\u001b[49m\u001b[43m \u001b[49m\u001b[43marial\u001b[49m\u001b[43m,\u001b[49m\u001b[43m \u001b[49m\u001b[43mfont_size\u001b[49m\u001b[43m)\u001b[49m\n",
      "File \u001b[1;32md:\\acvdl2025projects.github.io\\asg1_ascii_art\\test\\asg1_3_color_v1.py:181\u001b[0m, in \u001b[0;36mmp4_ascii.text_to_image\u001b[1;34m(self, text_lines, rgb_values, image_path, font_path, font_size)\u001b[0m\n\u001b[0;32m    179\u001b[0m         \u001b[38;5;28;01mif\u001b[39;00m i \u001b[38;5;241m<\u001b[39m \u001b[38;5;28mlen\u001b[39m(rgb_values) \u001b[38;5;129;01mand\u001b[39;00m j \u001b[38;5;241m<\u001b[39m \u001b[38;5;28mlen\u001b[39m(rgb_values[i]):  \u001b[38;5;66;03m# Ensure index is within bounds\u001b[39;00m\n\u001b[0;32m    180\u001b[0m             color \u001b[38;5;241m=\u001b[39m rgb_values[i][j]  \u001b[38;5;66;03m# Get corresponding RGB color\u001b[39;00m\n\u001b[1;32m--> 181\u001b[0m             \u001b[43mdraw\u001b[49m\u001b[38;5;241;43m.\u001b[39;49m\u001b[43mtext\u001b[49m\u001b[43m(\u001b[49m\u001b[43m(\u001b[49m\u001b[43mx\u001b[49m\u001b[43m,\u001b[49m\u001b[43m \u001b[49m\u001b[43my\u001b[49m\u001b[43m)\u001b[49m\u001b[43m,\u001b[49m\u001b[43m \u001b[49m\u001b[43mchar\u001b[49m\u001b[43m,\u001b[49m\u001b[43m \u001b[49m\u001b[43mfill\u001b[49m\u001b[38;5;241;43m=\u001b[39;49m\u001b[43mcolor\u001b[49m\u001b[43m,\u001b[49m\u001b[43m \u001b[49m\u001b[43mfont\u001b[49m\u001b[38;5;241;43m=\u001b[39;49m\u001b[43mfont\u001b[49m\u001b[43m)\u001b[49m  \u001b[38;5;66;03m# Draw character with its color\u001b[39;00m\n\u001b[0;32m    183\u001b[0m \u001b[38;5;66;03m# Save the image\u001b[39;00m\n\u001b[0;32m    184\u001b[0m img\u001b[38;5;241m.\u001b[39msave(image_path)\n",
      "File \u001b[1;32md:\\acvdl2025projects.github.io\\asg1_ascii_art\\.venv\\Lib\\site-packages\\PIL\\ImageDraw.py:698\u001b[0m, in \u001b[0;36mImageDraw.text\u001b[1;34m(self, xy, text, fill, font, anchor, spacing, align, direction, features, language, stroke_width, stroke_fill, embedded_color, *args, **kwargs)\u001b[0m\n\u001b[0;32m    695\u001b[0m     draw_text(ink, \u001b[38;5;241m0\u001b[39m)\n\u001b[0;32m    696\u001b[0m \u001b[38;5;28;01melse\u001b[39;00m:\n\u001b[0;32m    697\u001b[0m     \u001b[38;5;66;03m# Only draw normal text\u001b[39;00m\n\u001b[1;32m--> 698\u001b[0m     \u001b[43mdraw_text\u001b[49m\u001b[43m(\u001b[49m\u001b[43mink\u001b[49m\u001b[43m)\u001b[49m\n",
      "File \u001b[1;32md:\\acvdl2025projects.github.io\\asg1_ascii_art\\.venv\\Lib\\site-packages\\PIL\\ImageDraw.py:682\u001b[0m, in \u001b[0;36mImageDraw.text.<locals>.draw_text\u001b[1;34m(ink, stroke_width)\u001b[0m\n\u001b[0;32m    678\u001b[0m         \u001b[38;5;28mself\u001b[39m\u001b[38;5;241m.\u001b[39mim\u001b[38;5;241m.\u001b[39mpaste(\n\u001b[0;32m    679\u001b[0m             color, (x, y, x \u001b[38;5;241m+\u001b[39m mask\u001b[38;5;241m.\u001b[39msize[\u001b[38;5;241m0\u001b[39m], y \u001b[38;5;241m+\u001b[39m mask\u001b[38;5;241m.\u001b[39msize[\u001b[38;5;241m1\u001b[39m]), mask\n\u001b[0;32m    680\u001b[0m         )\n\u001b[0;32m    681\u001b[0m \u001b[38;5;28;01melse\u001b[39;00m:\n\u001b[1;32m--> 682\u001b[0m     \u001b[38;5;28;43mself\u001b[39;49m\u001b[38;5;241;43m.\u001b[39;49m\u001b[43mdraw\u001b[49m\u001b[38;5;241;43m.\u001b[39;49m\u001b[43mdraw_bitmap\u001b[49m\u001b[43m(\u001b[49m\u001b[43mcoord\u001b[49m\u001b[43m,\u001b[49m\u001b[43m \u001b[49m\u001b[43mmask\u001b[49m\u001b[43m,\u001b[49m\u001b[43m \u001b[49m\u001b[43mink\u001b[49m\u001b[43m)\u001b[49m\n",
      "\u001b[1;31mKeyboardInterrupt\u001b[0m: "
     ]
    }
   ],
   "source": [
    "obj1.frame2ascii()"
   ]
  },
  {
   "cell_type": "code",
   "execution_count": 8,
   "metadata": {},
   "outputs": [
    {
     "name": "stdout",
     "output_type": "stream",
     "text": [
      "Video created successfully!\n",
      "Video compressed successfully!\n",
      "./bleach_lr/ascii_video/compressed_output.mp4 exists. Deleting ./bleach_lr/ascii_video/output.mp4...\n",
      "Deleted: ./bleach_lr/ascii_video/output.mp4\n"
     ]
    }
   ],
   "source": [
    "obj1.compressVid()"
   ]
  },
  {
   "cell_type": "code",
   "execution_count": 9,
   "metadata": {},
   "outputs": [
    {
     "name": "stdout",
     "output_type": "stream",
     "text": [
      "Video with audio saved as ./bleach_lr/ascii_video/final_video.mp4\n",
      "./bleach_lr/ascii_video/final_video.mp4 exists. Deleting ./bleach_lr/ascii_video/compressed_output.mp4...\n",
      "Deleted: ./bleach_lr/ascii_video/compressed_output.mp4\n"
     ]
    }
   ],
   "source": [
    "obj1.vidWithAud()"
   ]
  },
  {
   "cell_type": "code",
   "execution_count": null,
   "metadata": {},
   "outputs": [],
   "source": []
  }
 ],
 "metadata": {
  "language_info": {
   "name": "python"
  }
 },
 "nbformat": 4,
 "nbformat_minor": 2
}
